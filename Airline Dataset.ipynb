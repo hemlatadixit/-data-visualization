{
 "cells": [
  {
   "cell_type": "code",
   "execution_count": 3,
   "id": "cadcd660",
   "metadata": {},
   "outputs": [],
   "source": [
    "import pandas as pd\n",
    "import numpy as np\n",
    "import matplotlib.pyplot as plt\n",
    "import seaborn as sns\n",
    "import warnings\n",
    "#warnings.filterwarning(\"ignor\")"
   ]
  },
  {
   "cell_type": "code",
   "execution_count": 4,
   "id": "8899d6d9",
   "metadata": {},
   "outputs": [
    {
     "data": {
      "text/html": [
       "<div>\n",
       "<style scoped>\n",
       "    .dataframe tbody tr th:only-of-type {\n",
       "        vertical-align: middle;\n",
       "    }\n",
       "\n",
       "    .dataframe tbody tr th {\n",
       "        vertical-align: top;\n",
       "    }\n",
       "\n",
       "    .dataframe thead th {\n",
       "        text-align: right;\n",
       "    }\n",
       "</style>\n",
       "<table border=\"1\" class=\"dataframe\">\n",
       "  <thead>\n",
       "    <tr style=\"text-align: right;\">\n",
       "      <th></th>\n",
       "      <th>Airline</th>\n",
       "      <th>Date_of_Journey</th>\n",
       "      <th>Source</th>\n",
       "      <th>Destination</th>\n",
       "      <th>Route</th>\n",
       "      <th>Dep_Time</th>\n",
       "      <th>Arrival_Time</th>\n",
       "      <th>Duration</th>\n",
       "      <th>Total_Stops</th>\n",
       "      <th>Additional_Info</th>\n",
       "      <th>Price</th>\n",
       "    </tr>\n",
       "  </thead>\n",
       "  <tbody>\n",
       "    <tr>\n",
       "      <th>0</th>\n",
       "      <td>IndiGo</td>\n",
       "      <td>24/03/2019</td>\n",
       "      <td>Banglore</td>\n",
       "      <td>New Delhi</td>\n",
       "      <td>BLR → DEL</td>\n",
       "      <td>22:20</td>\n",
       "      <td>01:10 22 Mar</td>\n",
       "      <td>2h 50m</td>\n",
       "      <td>non-stop</td>\n",
       "      <td>No info</td>\n",
       "      <td>3897</td>\n",
       "    </tr>\n",
       "    <tr>\n",
       "      <th>1</th>\n",
       "      <td>Air India</td>\n",
       "      <td>1/05/2019</td>\n",
       "      <td>Kolkata</td>\n",
       "      <td>Banglore</td>\n",
       "      <td>CCU → IXR → BBI → BLR</td>\n",
       "      <td>05:50</td>\n",
       "      <td>13:15</td>\n",
       "      <td>7h 25m</td>\n",
       "      <td>2 stops</td>\n",
       "      <td>No info</td>\n",
       "      <td>7662</td>\n",
       "    </tr>\n",
       "    <tr>\n",
       "      <th>2</th>\n",
       "      <td>Jet Airways</td>\n",
       "      <td>9/06/2019</td>\n",
       "      <td>Delhi</td>\n",
       "      <td>Cochin</td>\n",
       "      <td>DEL → LKO → BOM → COK</td>\n",
       "      <td>09:25</td>\n",
       "      <td>04:25 10 Jun</td>\n",
       "      <td>19h</td>\n",
       "      <td>2 stops</td>\n",
       "      <td>No info</td>\n",
       "      <td>13882</td>\n",
       "    </tr>\n",
       "    <tr>\n",
       "      <th>3</th>\n",
       "      <td>IndiGo</td>\n",
       "      <td>12/05/2019</td>\n",
       "      <td>Kolkata</td>\n",
       "      <td>Banglore</td>\n",
       "      <td>CCU → NAG → BLR</td>\n",
       "      <td>18:05</td>\n",
       "      <td>23:30</td>\n",
       "      <td>5h 25m</td>\n",
       "      <td>1 stop</td>\n",
       "      <td>No info</td>\n",
       "      <td>6218</td>\n",
       "    </tr>\n",
       "    <tr>\n",
       "      <th>4</th>\n",
       "      <td>IndiGo</td>\n",
       "      <td>01/03/2019</td>\n",
       "      <td>Banglore</td>\n",
       "      <td>New Delhi</td>\n",
       "      <td>BLR → NAG → DEL</td>\n",
       "      <td>16:50</td>\n",
       "      <td>21:35</td>\n",
       "      <td>4h 45m</td>\n",
       "      <td>1 stop</td>\n",
       "      <td>No info</td>\n",
       "      <td>13302</td>\n",
       "    </tr>\n",
       "    <tr>\n",
       "      <th>...</th>\n",
       "      <td>...</td>\n",
       "      <td>...</td>\n",
       "      <td>...</td>\n",
       "      <td>...</td>\n",
       "      <td>...</td>\n",
       "      <td>...</td>\n",
       "      <td>...</td>\n",
       "      <td>...</td>\n",
       "      <td>...</td>\n",
       "      <td>...</td>\n",
       "      <td>...</td>\n",
       "    </tr>\n",
       "    <tr>\n",
       "      <th>10678</th>\n",
       "      <td>Air Asia</td>\n",
       "      <td>9/04/2019</td>\n",
       "      <td>Kolkata</td>\n",
       "      <td>Banglore</td>\n",
       "      <td>CCU → BLR</td>\n",
       "      <td>19:55</td>\n",
       "      <td>22:25</td>\n",
       "      <td>2h 30m</td>\n",
       "      <td>non-stop</td>\n",
       "      <td>No info</td>\n",
       "      <td>4107</td>\n",
       "    </tr>\n",
       "    <tr>\n",
       "      <th>10679</th>\n",
       "      <td>Air India</td>\n",
       "      <td>27/04/2019</td>\n",
       "      <td>Kolkata</td>\n",
       "      <td>Banglore</td>\n",
       "      <td>CCU → BLR</td>\n",
       "      <td>20:45</td>\n",
       "      <td>23:20</td>\n",
       "      <td>2h 35m</td>\n",
       "      <td>non-stop</td>\n",
       "      <td>No info</td>\n",
       "      <td>4145</td>\n",
       "    </tr>\n",
       "    <tr>\n",
       "      <th>10680</th>\n",
       "      <td>Jet Airways</td>\n",
       "      <td>27/04/2019</td>\n",
       "      <td>Banglore</td>\n",
       "      <td>Delhi</td>\n",
       "      <td>BLR → DEL</td>\n",
       "      <td>08:20</td>\n",
       "      <td>11:20</td>\n",
       "      <td>3h</td>\n",
       "      <td>non-stop</td>\n",
       "      <td>No info</td>\n",
       "      <td>7229</td>\n",
       "    </tr>\n",
       "    <tr>\n",
       "      <th>10681</th>\n",
       "      <td>Vistara</td>\n",
       "      <td>01/03/2019</td>\n",
       "      <td>Banglore</td>\n",
       "      <td>New Delhi</td>\n",
       "      <td>BLR → DEL</td>\n",
       "      <td>11:30</td>\n",
       "      <td>14:10</td>\n",
       "      <td>2h 40m</td>\n",
       "      <td>non-stop</td>\n",
       "      <td>No info</td>\n",
       "      <td>12648</td>\n",
       "    </tr>\n",
       "    <tr>\n",
       "      <th>10682</th>\n",
       "      <td>Air India</td>\n",
       "      <td>9/05/2019</td>\n",
       "      <td>Delhi</td>\n",
       "      <td>Cochin</td>\n",
       "      <td>DEL → GOI → BOM → COK</td>\n",
       "      <td>10:55</td>\n",
       "      <td>19:15</td>\n",
       "      <td>8h 20m</td>\n",
       "      <td>2 stops</td>\n",
       "      <td>No info</td>\n",
       "      <td>11753</td>\n",
       "    </tr>\n",
       "  </tbody>\n",
       "</table>\n",
       "<p>10683 rows × 11 columns</p>\n",
       "</div>"
      ],
      "text/plain": [
       "           Airline Date_of_Journey    Source Destination  \\\n",
       "0           IndiGo      24/03/2019  Banglore   New Delhi   \n",
       "1        Air India       1/05/2019   Kolkata    Banglore   \n",
       "2      Jet Airways       9/06/2019     Delhi      Cochin   \n",
       "3           IndiGo      12/05/2019   Kolkata    Banglore   \n",
       "4           IndiGo      01/03/2019  Banglore   New Delhi   \n",
       "...            ...             ...       ...         ...   \n",
       "10678     Air Asia       9/04/2019   Kolkata    Banglore   \n",
       "10679    Air India      27/04/2019   Kolkata    Banglore   \n",
       "10680  Jet Airways      27/04/2019  Banglore       Delhi   \n",
       "10681      Vistara      01/03/2019  Banglore   New Delhi   \n",
       "10682    Air India       9/05/2019     Delhi      Cochin   \n",
       "\n",
       "                       Route Dep_Time  Arrival_Time Duration Total_Stops  \\\n",
       "0                  BLR → DEL    22:20  01:10 22 Mar   2h 50m    non-stop   \n",
       "1      CCU → IXR → BBI → BLR    05:50         13:15   7h 25m     2 stops   \n",
       "2      DEL → LKO → BOM → COK    09:25  04:25 10 Jun      19h     2 stops   \n",
       "3            CCU → NAG → BLR    18:05         23:30   5h 25m      1 stop   \n",
       "4            BLR → NAG → DEL    16:50         21:35   4h 45m      1 stop   \n",
       "...                      ...      ...           ...      ...         ...   \n",
       "10678              CCU → BLR    19:55         22:25   2h 30m    non-stop   \n",
       "10679              CCU → BLR    20:45         23:20   2h 35m    non-stop   \n",
       "10680              BLR → DEL    08:20         11:20       3h    non-stop   \n",
       "10681              BLR → DEL    11:30         14:10   2h 40m    non-stop   \n",
       "10682  DEL → GOI → BOM → COK    10:55         19:15   8h 20m     2 stops   \n",
       "\n",
       "      Additional_Info  Price  \n",
       "0             No info   3897  \n",
       "1             No info   7662  \n",
       "2             No info  13882  \n",
       "3             No info   6218  \n",
       "4             No info  13302  \n",
       "...               ...    ...  \n",
       "10678         No info   4107  \n",
       "10679         No info   4145  \n",
       "10680         No info   7229  \n",
       "10681         No info  12648  \n",
       "10682         No info  11753  \n",
       "\n",
       "[10683 rows x 11 columns]"
      ]
     },
     "execution_count": 4,
     "metadata": {},
     "output_type": "execute_result"
    }
   ],
   "source": [
    "df=pd.read_excel(\"Data_Train.xlsx\")\n",
    "df"
   ]
  },
  {
   "cell_type": "code",
   "execution_count": 5,
   "id": "7f14a33d",
   "metadata": {},
   "outputs": [
    {
     "data": {
      "text/plain": [
       "array(['New Delhi', 'Banglore', 'Cochin', 'Kolkata', 'Delhi', 'Hyderabad'],\n",
       "      dtype=object)"
      ]
     },
     "execution_count": 5,
     "metadata": {},
     "output_type": "execute_result"
    }
   ],
   "source": [
    "df[\"Destination\"].unique()"
   ]
  },
  {
   "cell_type": "markdown",
   "id": "2ba810b0",
   "metadata": {},
   "source": [
    "#### Checking shape"
   ]
  },
  {
   "cell_type": "code",
   "execution_count": 6,
   "id": "36c94021",
   "metadata": {},
   "outputs": [
    {
     "data": {
      "text/plain": [
       "(10683, 11)"
      ]
     },
     "execution_count": 6,
     "metadata": {},
     "output_type": "execute_result"
    }
   ],
   "source": [
    "df.shape"
   ]
  },
  {
   "cell_type": "markdown",
   "id": "84f3b8bd",
   "metadata": {},
   "source": [
    "#### Checking null values"
   ]
  },
  {
   "cell_type": "code",
   "execution_count": 7,
   "id": "954e92bb",
   "metadata": {},
   "outputs": [
    {
     "data": {
      "text/plain": [
       "Airline            0\n",
       "Date_of_Journey    0\n",
       "Source             0\n",
       "Destination        0\n",
       "Route              1\n",
       "Dep_Time           0\n",
       "Arrival_Time       0\n",
       "Duration           0\n",
       "Total_Stops        1\n",
       "Additional_Info    0\n",
       "Price              0\n",
       "dtype: int64"
      ]
     },
     "execution_count": 7,
     "metadata": {},
     "output_type": "execute_result"
    }
   ],
   "source": [
    "df.isnull().sum()"
   ]
  },
  {
   "cell_type": "markdown",
   "id": "35666f6b",
   "metadata": {},
   "source": [
    "#### Basic information of data"
   ]
  },
  {
   "cell_type": "code",
   "execution_count": 8,
   "id": "b2fb9ecf",
   "metadata": {},
   "outputs": [
    {
     "name": "stdout",
     "output_type": "stream",
     "text": [
      "<class 'pandas.core.frame.DataFrame'>\n",
      "RangeIndex: 10683 entries, 0 to 10682\n",
      "Data columns (total 11 columns):\n",
      " #   Column           Non-Null Count  Dtype \n",
      "---  ------           --------------  ----- \n",
      " 0   Airline          10683 non-null  object\n",
      " 1   Date_of_Journey  10683 non-null  object\n",
      " 2   Source           10683 non-null  object\n",
      " 3   Destination      10683 non-null  object\n",
      " 4   Route            10682 non-null  object\n",
      " 5   Dep_Time         10683 non-null  object\n",
      " 6   Arrival_Time     10683 non-null  object\n",
      " 7   Duration         10683 non-null  object\n",
      " 8   Total_Stops      10682 non-null  object\n",
      " 9   Additional_Info  10683 non-null  object\n",
      " 10  Price            10683 non-null  int64 \n",
      "dtypes: int64(1), object(10)\n",
      "memory usage: 918.2+ KB\n"
     ]
    }
   ],
   "source": [
    "df.info()"
   ]
  },
  {
   "cell_type": "markdown",
   "id": "1f5a3b0c",
   "metadata": {},
   "source": [
    "#### Find tha unique values"
   ]
  },
  {
   "cell_type": "code",
   "execution_count": 9,
   "id": "2f7630c7",
   "metadata": {},
   "outputs": [
    {
     "name": "stdout",
     "output_type": "stream",
     "text": [
      "Airline --- ['IndiGo' 'Air India' 'Jet Airways' 'SpiceJet' 'Multiple carriers' 'GoAir'\n",
      " 'Vistara' 'Air Asia' 'Vistara Premium economy' 'Jet Airways Business'\n",
      " 'Multiple carriers Premium economy' 'Trujet']\n",
      "Date_of_Journey --- ['24/03/2019' '1/05/2019' '9/06/2019' '12/05/2019' '01/03/2019'\n",
      " '24/06/2019' '12/03/2019' '27/05/2019' '1/06/2019' '18/04/2019'\n",
      " '9/05/2019' '24/04/2019' '3/03/2019' '15/04/2019' '12/06/2019'\n",
      " '6/03/2019' '21/03/2019' '3/04/2019' '6/05/2019' '15/05/2019'\n",
      " '18/06/2019' '15/06/2019' '6/04/2019' '18/05/2019' '27/06/2019'\n",
      " '21/05/2019' '06/03/2019' '3/06/2019' '15/03/2019' '3/05/2019'\n",
      " '9/03/2019' '6/06/2019' '24/05/2019' '09/03/2019' '1/04/2019'\n",
      " '21/04/2019' '21/06/2019' '27/03/2019' '18/03/2019' '12/04/2019'\n",
      " '9/04/2019' '1/03/2019' '03/03/2019' '27/04/2019']\n",
      "Source --- ['Banglore' 'Kolkata' 'Delhi' 'Chennai' 'Mumbai']\n",
      "Destination --- ['New Delhi' 'Banglore' 'Cochin' 'Kolkata' 'Delhi' 'Hyderabad']\n",
      "Route --- ['BLR → DEL' 'CCU → IXR → BBI → BLR' 'DEL → LKO → BOM → COK'\n",
      " 'CCU → NAG → BLR' 'BLR → NAG → DEL' 'CCU → BLR' 'BLR → BOM → DEL'\n",
      " 'DEL → BOM → COK' 'DEL → BLR → COK' 'MAA → CCU' 'CCU → BOM → BLR'\n",
      " 'DEL → AMD → BOM → COK' 'DEL → PNQ → COK' 'DEL → CCU → BOM → COK'\n",
      " 'BLR → COK → DEL' 'DEL → IDR → BOM → COK' 'DEL → LKO → COK'\n",
      " 'CCU → GAU → DEL → BLR' 'DEL → NAG → BOM → COK' 'CCU → MAA → BLR'\n",
      " 'DEL → HYD → COK' 'CCU → HYD → BLR' 'DEL → COK' 'CCU → DEL → BLR'\n",
      " 'BLR → BOM → AMD → DEL' 'BOM → DEL → HYD' 'DEL → MAA → COK' 'BOM → HYD'\n",
      " 'DEL → BHO → BOM → COK' 'DEL → JAI → BOM → COK' 'DEL → ATQ → BOM → COK'\n",
      " 'DEL → JDH → BOM → COK' 'CCU → BBI → BOM → BLR' 'BLR → MAA → DEL'\n",
      " 'DEL → GOI → BOM → COK' 'DEL → BDQ → BOM → COK' 'CCU → JAI → BOM → BLR'\n",
      " 'CCU → BBI → BLR' 'BLR → HYD → DEL' 'DEL → TRV → COK'\n",
      " 'CCU → IXR → DEL → BLR' 'DEL → IXU → BOM → COK' 'CCU → IXB → BLR'\n",
      " 'BLR → BOM → JDH → DEL' 'DEL → UDR → BOM → COK' 'DEL → HYD → MAA → COK'\n",
      " 'CCU → BOM → COK → BLR' 'BLR → CCU → DEL' 'CCU → BOM → GOI → BLR'\n",
      " 'DEL → RPR → NAG → BOM → COK' 'DEL → HYD → BOM → COK'\n",
      " 'CCU → DEL → AMD → BLR' 'CCU → PNQ → BLR' 'BLR → CCU → GAU → DEL'\n",
      " 'CCU → DEL → COK → BLR' 'BLR → PNQ → DEL' 'BOM → JDH → DEL → HYD'\n",
      " 'BLR → BOM → BHO → DEL' 'DEL → AMD → COK' 'BLR → LKO → DEL'\n",
      " 'CCU → GAU → BLR' 'BOM → GOI → HYD' 'CCU → BOM → AMD → BLR'\n",
      " 'CCU → BBI → IXR → DEL → BLR' 'DEL → DED → BOM → COK'\n",
      " 'DEL → MAA → BOM → COK' 'BLR → AMD → DEL' 'BLR → VGA → DEL'\n",
      " 'CCU → JAI → DEL → BLR' 'CCU → AMD → BLR' 'CCU → VNS → DEL → BLR'\n",
      " 'BLR → BOM → IDR → DEL' 'BLR → BBI → DEL' 'BLR → GOI → DEL'\n",
      " 'BOM → AMD → ISK → HYD' 'BOM → DED → DEL → HYD' 'DEL → IXC → BOM → COK'\n",
      " 'CCU → PAT → BLR' 'BLR → CCU → BBI → DEL' 'CCU → BBI → HYD → BLR'\n",
      " 'BLR → BOM → NAG → DEL' 'BLR → CCU → BBI → HYD → DEL' 'BLR → GAU → DEL'\n",
      " 'BOM → BHO → DEL → HYD' 'BOM → JLR → HYD' 'BLR → HYD → VGA → DEL'\n",
      " 'CCU → KNU → BLR' 'CCU → BOM → PNQ → BLR' 'DEL → BBI → COK'\n",
      " 'BLR → VGA → HYD → DEL' 'BOM → JDH → JAI → DEL → HYD'\n",
      " 'DEL → GWL → IDR → BOM → COK' 'CCU → RPR → HYD → BLR' 'CCU → VTZ → BLR'\n",
      " 'CCU → DEL → VGA → BLR' 'BLR → BOM → IDR → GWL → DEL'\n",
      " 'CCU → DEL → COK → TRV → BLR' 'BOM → COK → MAA → HYD' 'BOM → NDC → HYD'\n",
      " 'BLR → BDQ → DEL' 'CCU → BOM → TRV → BLR' 'CCU → BOM → HBX → BLR'\n",
      " 'BOM → BDQ → DEL → HYD' 'BOM → CCU → HYD' 'BLR → TRV → COK → DEL'\n",
      " 'BLR → IDR → DEL' 'CCU → IXZ → MAA → BLR' 'CCU → GAU → IMF → DEL → BLR'\n",
      " 'BOM → GOI → PNQ → HYD' 'BOM → BLR → CCU → BBI → HYD' 'BOM → MAA → HYD'\n",
      " 'BLR → BOM → UDR → DEL' 'BOM → UDR → DEL → HYD' 'BLR → VGA → VTZ → DEL'\n",
      " 'BLR → HBX → BOM → BHO → DEL' 'CCU → IXA → BLR' 'BOM → RPR → VTZ → HYD'\n",
      " 'BLR → HBX → BOM → AMD → DEL' 'BOM → IDR → DEL → HYD' 'BOM → BLR → HYD'\n",
      " 'BLR → STV → DEL' 'CCU → IXB → DEL → BLR' 'BOM → JAI → DEL → HYD'\n",
      " 'BOM → VNS → DEL → HYD' 'BLR → HBX → BOM → NAG → DEL' nan\n",
      " 'BLR → BOM → IXC → DEL' 'BLR → CCU → BBI → HYD → VGA → DEL'\n",
      " 'BOM → BBI → HYD']\n",
      "Dep_Time --- ['22:20' '05:50' '09:25' '18:05' '16:50' '09:00' '18:55' '08:00' '08:55'\n",
      " '11:25' '09:45' '20:20' '11:40' '21:10' '17:15' '16:40' '08:45' '14:00'\n",
      " '20:15' '16:00' '14:10' '22:00' '04:00' '21:25' '21:50' '07:00' '07:05'\n",
      " '09:50' '14:35' '10:35' '15:05' '14:15' '06:45' '20:55' '11:10' '05:45'\n",
      " '19:00' '23:05' '11:00' '09:35' '21:15' '23:55' '19:45' '08:50' '15:40'\n",
      " '06:05' '15:00' '13:55' '05:55' '13:20' '05:05' '06:25' '17:30' '08:20'\n",
      " '19:55' '06:30' '14:05' '02:00' '09:40' '08:25' '20:25' '13:15' '02:15'\n",
      " '16:55' '20:45' '05:15' '19:50' '20:00' '06:10' '19:30' '04:45' '12:55'\n",
      " '18:15' '17:20' '15:25' '23:00' '12:00' '14:45' '11:50' '11:30' '14:40'\n",
      " '19:10' '06:00' '23:30' '07:35' '13:05' '12:30' '15:10' '12:50' '18:25'\n",
      " '16:30' '00:40' '06:50' '13:00' '19:15' '01:30' '17:00' '10:00' '19:35'\n",
      " '15:30' '12:10' '16:10' '20:35' '22:25' '21:05' '05:35' '05:10' '06:40'\n",
      " '15:15' '00:30' '08:30' '07:10' '05:30' '14:25' '05:25' '10:20' '17:45'\n",
      " '13:10' '22:10' '04:55' '17:50' '21:20' '06:20' '15:55' '20:30' '17:25'\n",
      " '09:30' '07:30' '02:35' '10:55' '17:10' '09:10' '18:45' '15:20' '22:50'\n",
      " '14:55' '14:20' '13:25' '22:15' '11:05' '16:15' '20:10' '06:55' '19:05'\n",
      " '07:55' '07:45' '10:10' '08:15' '11:35' '21:00' '17:55' '16:45' '18:20'\n",
      " '03:50' '08:35' '19:20' '20:05' '17:40' '04:40' '17:35' '09:55' '05:00'\n",
      " '18:00' '02:55' '20:40' '22:55' '22:40' '21:30' '08:10' '17:05' '07:25'\n",
      " '15:45' '09:15' '15:50' '11:45' '22:05' '18:35' '00:25' '19:40' '20:50'\n",
      " '22:45' '10:30' '23:25' '11:55' '10:45' '11:15' '12:20' '14:30' '07:15'\n",
      " '01:35' '18:40' '09:20' '21:55' '13:50' '01:40' '00:20' '04:15' '13:45'\n",
      " '18:30' '06:15' '02:05' '12:15' '13:30' '06:35' '10:05' '08:40' '03:05'\n",
      " '21:35' '16:35' '02:30' '16:25' '05:40' '15:35' '13:40' '07:20' '04:50'\n",
      " '12:45' '10:25' '12:05' '11:20' '21:40' '03:00']\n",
      "Arrival_Time --- ['01:10 22 Mar' '13:15' '04:25 10 Jun' ... '06:50 10 Mar' '00:05 19 Mar'\n",
      " '21:20 13 Mar']\n",
      "Duration --- ['2h 50m' '7h 25m' '19h' '5h 25m' '4h 45m' '2h 25m' '15h 30m' '21h 5m'\n",
      " '25h 30m' '7h 50m' '13h 15m' '2h 35m' '2h 15m' '12h 10m' '26h 35m'\n",
      " '4h 30m' '22h 35m' '23h' '20h 35m' '5h 10m' '15h 20m' '2h 55m' '13h 20m'\n",
      " '15h 10m' '5h 45m' '5h 55m' '13h 25m' '22h' '5h 30m' '10h 25m' '5h 15m'\n",
      " '2h 30m' '6h 15m' '11h 55m' '11h 5m' '8h 30m' '22h 5m' '2h 45m' '12h'\n",
      " '16h 5m' '19h 55m' '3h 15m' '25h 20m' '3h' '16h 15m' '15h 5m' '6h 30m'\n",
      " '25h 5m' '12h 25m' '27h 20m' '10h 15m' '10h 30m' '1h 30m' '1h 25m'\n",
      " '26h 30m' '7h 20m' '13h 30m' '5h' '19h 5m' '14h 50m' '2h 40m' '22h 10m'\n",
      " '9h 35m' '10h' '21h 20m' '18h 45m' '12h 20m' '18h' '9h 15m' '17h 30m'\n",
      " '16h 35m' '12h 15m' '7h 30m' '24h' '8h 55m' '7h 10m' '14h 30m' '30h 20m'\n",
      " '15h' '12h 45m' '10h 10m' '15h 25m' '14h 5m' '20h 15m' '23h 10m'\n",
      " '18h 10m' '16h' '2h 20m' '8h' '16h 55m' '3h 10m' '14h' '23h 50m'\n",
      " '21h 40m' '21h 15m' '10h 50m' '8h 15m' '8h 35m' '11h 50m' '27h 35m'\n",
      " '8h 25m' '20h 55m' '4h 50m' '8h 10m' '24h 25m' '23h 35m' '25h 45m'\n",
      " '26h 10m' '28h 50m' '25h 15m' '9h 20m' '9h 10m' '3h 5m' '11h 30m'\n",
      " '9h 30m' '17h 35m' '5h 5m' '25h 50m' '20h' '13h' '18h 25m' '24h 10m'\n",
      " '4h 55m' '25h 35m' '6h 20m' '18h 40m' '19h 25m' '29h 20m' '9h 5m'\n",
      " '10h 45m' '11h 40m' '22h 55m' '37h 25m' '25h 40m' '13h 55m' '8h 40m'\n",
      " '23h 30m' '12h 35m' '24h 15m' '1h 20m' '11h' '11h 15m' '14h 35m'\n",
      " '12h 55m' '9h' '7h 40m' '11h 45m' '24h 55m' '17h 5m' '29h 55m' '22h 15m'\n",
      " '14h 40m' '7h 15m' '20h 10m' '20h 45m' '27h' '24h 30m' '20h 25m' '5h 35m'\n",
      " '14h 45m' '5h 40m' '4h 5m' '15h 55m' '7h 45m' '28h 20m' '4h 20m' '3h 40m'\n",
      " '8h 50m' '23h 45m' '24h 45m' '21h 35m' '8h 5m' '6h 25m' '15h 50m'\n",
      " '26h 25m' '24h 50m' '26h' '23h 5m' '7h 55m' '26h 20m' '23h 15m' '5h 20m'\n",
      " '4h' '9h 45m' '8h 20m' '17h 25m' '7h 5m' '34h 5m' '6h 5m' '5h 50m' '7h'\n",
      " '4h 25m' '13h 45m' '19h 15m' '22h 30m' '16h 25m' '13h 50m' '27h 5m'\n",
      " '28h 10m' '4h 40m' '15h 40m' '4h 35m' '18h 30m' '38h 15m' '6h 35m'\n",
      " '12h 30m' '11h 20m' '7h 35m' '29h 35m' '26h 55m' '23h 40m' '12h 50m'\n",
      " '9h 50m' '21h 55m' '10h 55m' '21h 10m' '20h 40m' '30h' '13h 10m' '8h 45m'\n",
      " '6h 10m' '17h 45m' '21h 45m' '3h 55m' '17h 20m' '30h 30m' '21h 25m'\n",
      " '12h 40m' '24h 35m' '19h 10m' '22h 40m' '14h 55m' '21h' '6h 45m'\n",
      " '28h 40m' '9h 40m' '16h 40m' '16h 20m' '16h 45m' '1h 15m' '6h 55m'\n",
      " '11h 25m' '14h 20m' '12h 5m' '24h 5m' '28h 15m' '17h 50m' '20h 20m'\n",
      " '28h 5m' '10h 20m' '14h 15m' '35h 15m' '35h 35m' '26h 40m' '28h'\n",
      " '14h 25m' '13h 5m' '37h 20m' '36h 10m' '25h 55m' '35h 5m' '19h 45m'\n",
      " '27h 55m' '47h' '10h 35m' '1h 35m' '16h 10m' '38h 20m' '6h' '16h 50m'\n",
      " '14h 10m' '23h 20m' '17h 40m' '11h 35m' '18h 20m' '6h 40m' '30h 55m'\n",
      " '24h 40m' '29h 50m' '28h 25m' '17h 15m' '22h 45m' '25h 25m' '21h 50m'\n",
      " '33h 15m' '30h 15m' '3h 35m' '27h 40m' '30h 25m' '18h 50m' '27h 45m'\n",
      " '15h 15m' '10h 40m' '26h 15m' '36h 25m' '26h 50m' '15h 45m' '19h 40m'\n",
      " '22h 25m' '19h 35m' '25h' '26h 45m' '38h' '4h 15m' '25h 10m' '18h 15m'\n",
      " '6h 50m' '23h 55m' '17h 55m' '23h 25m' '17h 10m' '24h 20m' '28h 30m'\n",
      " '27h 10m' '19h 20m' '15h 35m' '9h 25m' '21h 30m' '34h 25m' '18h 35m'\n",
      " '29h 40m' '26h 5m' '29h 5m' '27h 25m' '16h 30m' '11h 10m' '28h 55m'\n",
      " '29h 10m' '34h' '30h 40m' '30h 45m' '32h 55m' '10h 5m' '35h 20m' '32h 5m'\n",
      " '31h 40m' '19h 50m' '33h 45m' '30h 10m' '13h 40m' '19h 30m' '31h 30m'\n",
      " '34h 30m' '27h 50m' '38h 35m' '42h 5m' '4h 10m' '39h 5m' '3h 50m' '5m'\n",
      " '32h 30m' '31h 55m' '33h 20m' '27h 30m' '18h 55m' '9h 55m' '41h 20m'\n",
      " '20h 5m' '31h 50m' '42h 45m' '3h 25m' '37h 10m' '29h 30m' '32h 20m'\n",
      " '20h 50m' '40h 20m' '13h 35m' '47h 40m']\n",
      "Total_Stops --- ['non-stop' '2 stops' '1 stop' '3 stops' nan '4 stops']\n",
      "Additional_Info --- ['No info' 'In-flight meal not included' 'No check-in baggage included'\n",
      " '1 Short layover' 'No Info' '1 Long layover' 'Change airports'\n",
      " 'Business class' 'Red-eye flight' '2 Long layover']\n",
      "Price --- [ 3897  7662 13882 ...  9790 12352 12648]\n"
     ]
    }
   ],
   "source": [
    "for i in df.columns:    # ambiguity ##in destination column we han=ve change tha delhi into new delhi\n",
    "    print(i,\"---\",df[i].unique())"
   ]
  },
  {
   "cell_type": "markdown",
   "id": "9dce3f91",
   "metadata": {},
   "source": [
    "#### Checking missing values again"
   ]
  },
  {
   "cell_type": "code",
   "execution_count": 10,
   "id": "85503de0",
   "metadata": {},
   "outputs": [
    {
     "data": {
      "text/plain": [
       "Airline            0\n",
       "Date_of_Journey    0\n",
       "Source             0\n",
       "Destination        0\n",
       "Route              1\n",
       "Dep_Time           0\n",
       "Arrival_Time       0\n",
       "Duration           0\n",
       "Total_Stops        1\n",
       "Additional_Info    0\n",
       "Price              0\n",
       "dtype: int64"
      ]
     },
     "execution_count": 10,
     "metadata": {},
     "output_type": "execute_result"
    }
   ],
   "source": [
    "df.isnull().sum()"
   ]
  },
  {
   "cell_type": "markdown",
   "id": "9037a862",
   "metadata": {},
   "source": [
    "#### Filling missing values in data"
   ]
  },
  {
   "cell_type": "code",
   "execution_count": 11,
   "id": "f00fffc2",
   "metadata": {},
   "outputs": [
    {
     "data": {
      "text/plain": [
       "0    1 stop\n",
       "Name: Total_Stops, dtype: object"
      ]
     },
     "execution_count": 11,
     "metadata": {},
     "output_type": "execute_result"
    }
   ],
   "source": [
    "df[\"Total_Stops\"].mode()"
   ]
  },
  {
   "cell_type": "code",
   "execution_count": 12,
   "id": "4f0f0972",
   "metadata": {},
   "outputs": [
    {
     "data": {
      "text/plain": [
       "0    DEL → BOM → COK\n",
       "Name: Route, dtype: object"
      ]
     },
     "execution_count": 12,
     "metadata": {},
     "output_type": "execute_result"
    }
   ],
   "source": [
    "df[\"Route\"].mode()"
   ]
  },
  {
   "cell_type": "code",
   "execution_count": 13,
   "id": "e91a1aed",
   "metadata": {},
   "outputs": [],
   "source": [
    "##df.fillna(columns=[\"[\"Route\"])"
   ]
  },
  {
   "cell_type": "code",
   "execution_count": 14,
   "id": "53458f89",
   "metadata": {},
   "outputs": [],
   "source": [
    "df[\"Route\"].fillna(df[\"Route\"].mode()[0],inplace=True)"
   ]
  },
  {
   "cell_type": "code",
   "execution_count": 15,
   "id": "7a1b9414",
   "metadata": {},
   "outputs": [],
   "source": [
    "df[\"Total_Stops\"].fillna(df[\"Total_Stops\"].mode()[0],inplace=True)"
   ]
  },
  {
   "cell_type": "code",
   "execution_count": 16,
   "id": "034a83af",
   "metadata": {},
   "outputs": [
    {
     "data": {
      "text/plain": [
       "Airline            0\n",
       "Date_of_Journey    0\n",
       "Source             0\n",
       "Destination        0\n",
       "Route              0\n",
       "Dep_Time           0\n",
       "Arrival_Time       0\n",
       "Duration           0\n",
       "Total_Stops        0\n",
       "Additional_Info    0\n",
       "Price              0\n",
       "dtype: int64"
      ]
     },
     "execution_count": 16,
     "metadata": {},
     "output_type": "execute_result"
    }
   ],
   "source": [
    "df.isnull().sum()"
   ]
  },
  {
   "cell_type": "markdown",
   "id": "66bf9b9b",
   "metadata": {},
   "source": [
    "#### Replacing new delhi into delhi in data"
   ]
  },
  {
   "cell_type": "code",
   "execution_count": 18,
   "id": "7d7c776c",
   "metadata": {},
   "outputs": [
    {
     "data": {
      "text/plain": [
       "0        New Delhi\n",
       "1         Banglore\n",
       "2           Cochin\n",
       "3         Banglore\n",
       "4         Banglore\n",
       "           ...    \n",
       "10678     Banglore\n",
       "10679     Banglore\n",
       "10680     Banglore\n",
       "10681     Banglore\n",
       "10682       Cochin\n",
       "Name: Destination, Length: 10683, dtype: object"
      ]
     },
     "execution_count": 18,
     "metadata": {},
     "output_type": "execute_result"
    }
   ],
   "source": [
    "df[\"Destination\"]=df[\"Destination\"].replace([\"New Delhi\",\"Delhi\"])\n",
    "df[\"Destination\"]"
   ]
  },
  {
   "cell_type": "code",
   "execution_count": 19,
   "id": "f37e7edf",
   "metadata": {},
   "outputs": [
    {
     "data": {
      "text/plain": [
       "array(['New Delhi', 'Banglore', 'Cochin', 'Kolkata', 'Hyderabad'],\n",
       "      dtype=object)"
      ]
     },
     "execution_count": 19,
     "metadata": {},
     "output_type": "execute_result"
    }
   ],
   "source": [
    "df[\"Destination\"].unique()"
   ]
  },
  {
   "cell_type": "markdown",
   "id": "2499c8e4",
   "metadata": {},
   "source": [
    "#### from df.info  we see that date_of_journey ,dep_time and arrival_time all are object types."
   ]
  },
  {
   "cell_type": "code",
   "execution_count": 20,
   "id": "e3f36e16",
   "metadata": {},
   "outputs": [],
   "source": [
    "from datetime import datetime as dt"
   ]
  },
  {
   "cell_type": "code",
   "execution_count": 21,
   "id": "83cf12f6",
   "metadata": {},
   "outputs": [
    {
     "name": "stderr",
     "output_type": "stream",
     "text": [
      "C:\\Users\\ad\\anaconda3\\lib\\site-packages\\pandas\\core\\tools\\datetimes.py:1047: UserWarning: Parsing '24/03/2019' in DD/MM/YYYY format. Provide format or specify infer_datetime_format=True for consistent parsing.\n",
      "  cache_array = _maybe_cache(arg, format, cache, convert_listlike)\n",
      "C:\\Users\\ad\\anaconda3\\lib\\site-packages\\pandas\\core\\tools\\datetimes.py:1047: UserWarning: Parsing '24/06/2019' in DD/MM/YYYY format. Provide format or specify infer_datetime_format=True for consistent parsing.\n",
      "  cache_array = _maybe_cache(arg, format, cache, convert_listlike)\n",
      "C:\\Users\\ad\\anaconda3\\lib\\site-packages\\pandas\\core\\tools\\datetimes.py:1047: UserWarning: Parsing '27/05/2019' in DD/MM/YYYY format. Provide format or specify infer_datetime_format=True for consistent parsing.\n",
      "  cache_array = _maybe_cache(arg, format, cache, convert_listlike)\n",
      "C:\\Users\\ad\\anaconda3\\lib\\site-packages\\pandas\\core\\tools\\datetimes.py:1047: UserWarning: Parsing '18/04/2019' in DD/MM/YYYY format. Provide format or specify infer_datetime_format=True for consistent parsing.\n",
      "  cache_array = _maybe_cache(arg, format, cache, convert_listlike)\n",
      "C:\\Users\\ad\\anaconda3\\lib\\site-packages\\pandas\\core\\tools\\datetimes.py:1047: UserWarning: Parsing '24/04/2019' in DD/MM/YYYY format. Provide format or specify infer_datetime_format=True for consistent parsing.\n",
      "  cache_array = _maybe_cache(arg, format, cache, convert_listlike)\n",
      "C:\\Users\\ad\\anaconda3\\lib\\site-packages\\pandas\\core\\tools\\datetimes.py:1047: UserWarning: Parsing '15/04/2019' in DD/MM/YYYY format. Provide format or specify infer_datetime_format=True for consistent parsing.\n",
      "  cache_array = _maybe_cache(arg, format, cache, convert_listlike)\n",
      "C:\\Users\\ad\\anaconda3\\lib\\site-packages\\pandas\\core\\tools\\datetimes.py:1047: UserWarning: Parsing '21/03/2019' in DD/MM/YYYY format. Provide format or specify infer_datetime_format=True for consistent parsing.\n",
      "  cache_array = _maybe_cache(arg, format, cache, convert_listlike)\n",
      "C:\\Users\\ad\\anaconda3\\lib\\site-packages\\pandas\\core\\tools\\datetimes.py:1047: UserWarning: Parsing '15/05/2019' in DD/MM/YYYY format. Provide format or specify infer_datetime_format=True for consistent parsing.\n",
      "  cache_array = _maybe_cache(arg, format, cache, convert_listlike)\n",
      "C:\\Users\\ad\\anaconda3\\lib\\site-packages\\pandas\\core\\tools\\datetimes.py:1047: UserWarning: Parsing '18/06/2019' in DD/MM/YYYY format. Provide format or specify infer_datetime_format=True for consistent parsing.\n",
      "  cache_array = _maybe_cache(arg, format, cache, convert_listlike)\n",
      "C:\\Users\\ad\\anaconda3\\lib\\site-packages\\pandas\\core\\tools\\datetimes.py:1047: UserWarning: Parsing '15/06/2019' in DD/MM/YYYY format. Provide format or specify infer_datetime_format=True for consistent parsing.\n",
      "  cache_array = _maybe_cache(arg, format, cache, convert_listlike)\n",
      "C:\\Users\\ad\\anaconda3\\lib\\site-packages\\pandas\\core\\tools\\datetimes.py:1047: UserWarning: Parsing '18/05/2019' in DD/MM/YYYY format. Provide format or specify infer_datetime_format=True for consistent parsing.\n",
      "  cache_array = _maybe_cache(arg, format, cache, convert_listlike)\n",
      "C:\\Users\\ad\\anaconda3\\lib\\site-packages\\pandas\\core\\tools\\datetimes.py:1047: UserWarning: Parsing '27/06/2019' in DD/MM/YYYY format. Provide format or specify infer_datetime_format=True for consistent parsing.\n",
      "  cache_array = _maybe_cache(arg, format, cache, convert_listlike)\n",
      "C:\\Users\\ad\\anaconda3\\lib\\site-packages\\pandas\\core\\tools\\datetimes.py:1047: UserWarning: Parsing '21/05/2019' in DD/MM/YYYY format. Provide format or specify infer_datetime_format=True for consistent parsing.\n",
      "  cache_array = _maybe_cache(arg, format, cache, convert_listlike)\n",
      "C:\\Users\\ad\\anaconda3\\lib\\site-packages\\pandas\\core\\tools\\datetimes.py:1047: UserWarning: Parsing '15/03/2019' in DD/MM/YYYY format. Provide format or specify infer_datetime_format=True for consistent parsing.\n",
      "  cache_array = _maybe_cache(arg, format, cache, convert_listlike)\n",
      "C:\\Users\\ad\\anaconda3\\lib\\site-packages\\pandas\\core\\tools\\datetimes.py:1047: UserWarning: Parsing '24/05/2019' in DD/MM/YYYY format. Provide format or specify infer_datetime_format=True for consistent parsing.\n",
      "  cache_array = _maybe_cache(arg, format, cache, convert_listlike)\n",
      "C:\\Users\\ad\\anaconda3\\lib\\site-packages\\pandas\\core\\tools\\datetimes.py:1047: UserWarning: Parsing '21/04/2019' in DD/MM/YYYY format. Provide format or specify infer_datetime_format=True for consistent parsing.\n",
      "  cache_array = _maybe_cache(arg, format, cache, convert_listlike)\n",
      "C:\\Users\\ad\\anaconda3\\lib\\site-packages\\pandas\\core\\tools\\datetimes.py:1047: UserWarning: Parsing '21/06/2019' in DD/MM/YYYY format. Provide format or specify infer_datetime_format=True for consistent parsing.\n",
      "  cache_array = _maybe_cache(arg, format, cache, convert_listlike)\n",
      "C:\\Users\\ad\\anaconda3\\lib\\site-packages\\pandas\\core\\tools\\datetimes.py:1047: UserWarning: Parsing '27/03/2019' in DD/MM/YYYY format. Provide format or specify infer_datetime_format=True for consistent parsing.\n",
      "  cache_array = _maybe_cache(arg, format, cache, convert_listlike)\n",
      "C:\\Users\\ad\\anaconda3\\lib\\site-packages\\pandas\\core\\tools\\datetimes.py:1047: UserWarning: Parsing '18/03/2019' in DD/MM/YYYY format. Provide format or specify infer_datetime_format=True for consistent parsing.\n",
      "  cache_array = _maybe_cache(arg, format, cache, convert_listlike)\n",
      "C:\\Users\\ad\\anaconda3\\lib\\site-packages\\pandas\\core\\tools\\datetimes.py:1047: UserWarning: Parsing '27/04/2019' in DD/MM/YYYY format. Provide format or specify infer_datetime_format=True for consistent parsing.\n",
      "  cache_array = _maybe_cache(arg, format, cache, convert_listlike)\n"
     ]
    }
   ],
   "source": [
    "df[\"Date_of_Journey\"]=pd.to_datetime(df[\"Date_of_Journey\"])\n",
    "df[\"Dep_Time\"]=pd.to_datetime(df[\"Dep_Time\"])\n",
    "df[\"Arrival_Time\"]=pd.to_datetime(df[\"Arrival_Time\"])"
   ]
  },
  {
   "cell_type": "code",
   "execution_count": 22,
   "id": "abbcbd2b",
   "metadata": {},
   "outputs": [],
   "source": [
    "from datetime import datetime as dt\n",
    "# Extracting  day \n",
    "df[\"day_of_journey\"] = df[\"Date_of_Journey\"].dt.day\n",
    "\n",
    "# Extracting month\n",
    "df[\"month_of_journey\"] = df[\"Date_of_Journey\"].dt.month\n",
    "\n",
    "## Extracting  departure Hours\n",
    "df[\"Dep_hour\"] = df[\"Dep_Time\"].dt.hour\n",
    "\n",
    "# Extracting departure Minutes\n",
    "df[\"Dep_min\"] = df[\"Dep_Time\"].dt.minute\n",
    "\n",
    "## Extracting  arrival Hours\n",
    "df[\"arrival_hour\"] = df[\"Arrival_Time\"].dt.hour\n",
    "\n",
    "# Extracting arrival Minutes\n",
    "df[\"arrival_min\"] = df[\"Arrival_Time\"].dt.minute\n",
    "\n",
    "\n",
    "\n"
   ]
  },
  {
   "cell_type": "markdown",
   "id": "94b722c9",
   "metadata": {},
   "source": [
    "#### CLEAN DURATION COLUMN"
   ]
  },
  {
   "cell_type": "code",
   "execution_count": 23,
   "id": "f6535efd",
   "metadata": {},
   "outputs": [
    {
     "data": {
      "text/plain": [
       "array(['2h 50m', '7h 25m', '19h', '5h 25m', '4h 45m', '2h 25m', '15h 30m',\n",
       "       '21h 5m', '25h 30m', '7h 50m', '13h 15m', '2h 35m', '2h 15m',\n",
       "       '12h 10m', '26h 35m', '4h 30m', '22h 35m', '23h', '20h 35m',\n",
       "       '5h 10m', '15h 20m', '2h 55m', '13h 20m', '15h 10m', '5h 45m',\n",
       "       '5h 55m', '13h 25m', '22h', '5h 30m', '10h 25m', '5h 15m',\n",
       "       '2h 30m', '6h 15m', '11h 55m', '11h 5m', '8h 30m', '22h 5m',\n",
       "       '2h 45m', '12h', '16h 5m', '19h 55m', '3h 15m', '25h 20m', '3h',\n",
       "       '16h 15m', '15h 5m', '6h 30m', '25h 5m', '12h 25m', '27h 20m',\n",
       "       '10h 15m', '10h 30m', '1h 30m', '1h 25m', '26h 30m', '7h 20m',\n",
       "       '13h 30m', '5h', '19h 5m', '14h 50m', '2h 40m', '22h 10m',\n",
       "       '9h 35m', '10h', '21h 20m', '18h 45m', '12h 20m', '18h', '9h 15m',\n",
       "       '17h 30m', '16h 35m', '12h 15m', '7h 30m', '24h', '8h 55m',\n",
       "       '7h 10m', '14h 30m', '30h 20m', '15h', '12h 45m', '10h 10m',\n",
       "       '15h 25m', '14h 5m', '20h 15m', '23h 10m', '18h 10m', '16h',\n",
       "       '2h 20m', '8h', '16h 55m', '3h 10m', '14h', '23h 50m', '21h 40m',\n",
       "       '21h 15m', '10h 50m', '8h 15m', '8h 35m', '11h 50m', '27h 35m',\n",
       "       '8h 25m', '20h 55m', '4h 50m', '8h 10m', '24h 25m', '23h 35m',\n",
       "       '25h 45m', '26h 10m', '28h 50m', '25h 15m', '9h 20m', '9h 10m',\n",
       "       '3h 5m', '11h 30m', '9h 30m', '17h 35m', '5h 5m', '25h 50m', '20h',\n",
       "       '13h', '18h 25m', '24h 10m', '4h 55m', '25h 35m', '6h 20m',\n",
       "       '18h 40m', '19h 25m', '29h 20m', '9h 5m', '10h 45m', '11h 40m',\n",
       "       '22h 55m', '37h 25m', '25h 40m', '13h 55m', '8h 40m', '23h 30m',\n",
       "       '12h 35m', '24h 15m', '1h 20m', '11h', '11h 15m', '14h 35m',\n",
       "       '12h 55m', '9h', '7h 40m', '11h 45m', '24h 55m', '17h 5m',\n",
       "       '29h 55m', '22h 15m', '14h 40m', '7h 15m', '20h 10m', '20h 45m',\n",
       "       '27h', '24h 30m', '20h 25m', '5h 35m', '14h 45m', '5h 40m',\n",
       "       '4h 5m', '15h 55m', '7h 45m', '28h 20m', '4h 20m', '3h 40m',\n",
       "       '8h 50m', '23h 45m', '24h 45m', '21h 35m', '8h 5m', '6h 25m',\n",
       "       '15h 50m', '26h 25m', '24h 50m', '26h', '23h 5m', '7h 55m',\n",
       "       '26h 20m', '23h 15m', '5h 20m', '4h', '9h 45m', '8h 20m',\n",
       "       '17h 25m', '7h 5m', '34h 5m', '6h 5m', '5h 50m', '7h', '4h 25m',\n",
       "       '13h 45m', '19h 15m', '22h 30m', '16h 25m', '13h 50m', '27h 5m',\n",
       "       '28h 10m', '4h 40m', '15h 40m', '4h 35m', '18h 30m', '38h 15m',\n",
       "       '6h 35m', '12h 30m', '11h 20m', '7h 35m', '29h 35m', '26h 55m',\n",
       "       '23h 40m', '12h 50m', '9h 50m', '21h 55m', '10h 55m', '21h 10m',\n",
       "       '20h 40m', '30h', '13h 10m', '8h 45m', '6h 10m', '17h 45m',\n",
       "       '21h 45m', '3h 55m', '17h 20m', '30h 30m', '21h 25m', '12h 40m',\n",
       "       '24h 35m', '19h 10m', '22h 40m', '14h 55m', '21h', '6h 45m',\n",
       "       '28h 40m', '9h 40m', '16h 40m', '16h 20m', '16h 45m', '1h 15m',\n",
       "       '6h 55m', '11h 25m', '14h 20m', '12h 5m', '24h 5m', '28h 15m',\n",
       "       '17h 50m', '20h 20m', '28h 5m', '10h 20m', '14h 15m', '35h 15m',\n",
       "       '35h 35m', '26h 40m', '28h', '14h 25m', '13h 5m', '37h 20m',\n",
       "       '36h 10m', '25h 55m', '35h 5m', '19h 45m', '27h 55m', '47h',\n",
       "       '10h 35m', '1h 35m', '16h 10m', '38h 20m', '6h', '16h 50m',\n",
       "       '14h 10m', '23h 20m', '17h 40m', '11h 35m', '18h 20m', '6h 40m',\n",
       "       '30h 55m', '24h 40m', '29h 50m', '28h 25m', '17h 15m', '22h 45m',\n",
       "       '25h 25m', '21h 50m', '33h 15m', '30h 15m', '3h 35m', '27h 40m',\n",
       "       '30h 25m', '18h 50m', '27h 45m', '15h 15m', '10h 40m', '26h 15m',\n",
       "       '36h 25m', '26h 50m', '15h 45m', '19h 40m', '22h 25m', '19h 35m',\n",
       "       '25h', '26h 45m', '38h', '4h 15m', '25h 10m', '18h 15m', '6h 50m',\n",
       "       '23h 55m', '17h 55m', '23h 25m', '17h 10m', '24h 20m', '28h 30m',\n",
       "       '27h 10m', '19h 20m', '15h 35m', '9h 25m', '21h 30m', '34h 25m',\n",
       "       '18h 35m', '29h 40m', '26h 5m', '29h 5m', '27h 25m', '16h 30m',\n",
       "       '11h 10m', '28h 55m', '29h 10m', '34h', '30h 40m', '30h 45m',\n",
       "       '32h 55m', '10h 5m', '35h 20m', '32h 5m', '31h 40m', '19h 50m',\n",
       "       '33h 45m', '30h 10m', '13h 40m', '19h 30m', '31h 30m', '34h 30m',\n",
       "       '27h 50m', '38h 35m', '42h 5m', '4h 10m', '39h 5m', '3h 50m', '5m',\n",
       "       '32h 30m', '31h 55m', '33h 20m', '27h 30m', '18h 55m', '9h 55m',\n",
       "       '41h 20m', '20h 5m', '31h 50m', '42h 45m', '3h 25m', '37h 10m',\n",
       "       '29h 30m', '32h 20m', '20h 50m', '40h 20m', '13h 35m', '47h 40m'],\n",
       "      dtype=object)"
      ]
     },
     "execution_count": 23,
     "metadata": {},
     "output_type": "execute_result"
    }
   ],
   "source": [
    "df[\"Duration\"].unique()"
   ]
  },
  {
   "cell_type": "code",
   "execution_count": 24,
   "id": "5514f6bd",
   "metadata": {},
   "outputs": [],
   "source": [
    "df[\"Duration\"]=df[\"Duration\"].str.replace(\"h\",\"*60\").str.replace(\" \",\"+\").str.replace(\"m\",\"*1\").apply(eval)"
   ]
  },
  {
   "cell_type": "code",
   "execution_count": 25,
   "id": "ffe3ab18",
   "metadata": {},
   "outputs": [
    {
     "data": {
      "text/plain": [
       "0         170\n",
       "1         445\n",
       "2        1140\n",
       "3         325\n",
       "4         285\n",
       "         ... \n",
       "10678     150\n",
       "10679     155\n",
       "10680     180\n",
       "10681     160\n",
       "10682     500\n",
       "Name: Duration, Length: 10683, dtype: int64"
      ]
     },
     "execution_count": 25,
     "metadata": {},
     "output_type": "execute_result"
    }
   ],
   "source": [
    "df[\"Duration\"]"
   ]
  },
  {
   "cell_type": "code",
   "execution_count": 26,
   "id": "ebcd33bd",
   "metadata": {},
   "outputs": [
    {
     "data": {
      "text/html": [
       "<div>\n",
       "<style scoped>\n",
       "    .dataframe tbody tr th:only-of-type {\n",
       "        vertical-align: middle;\n",
       "    }\n",
       "\n",
       "    .dataframe tbody tr th {\n",
       "        vertical-align: top;\n",
       "    }\n",
       "\n",
       "    .dataframe thead th {\n",
       "        text-align: right;\n",
       "    }\n",
       "</style>\n",
       "<table border=\"1\" class=\"dataframe\">\n",
       "  <thead>\n",
       "    <tr style=\"text-align: right;\">\n",
       "      <th></th>\n",
       "      <th>Airline</th>\n",
       "      <th>Date_of_Journey</th>\n",
       "      <th>Source</th>\n",
       "      <th>Destination</th>\n",
       "      <th>Route</th>\n",
       "      <th>Dep_Time</th>\n",
       "      <th>Arrival_Time</th>\n",
       "      <th>Duration</th>\n",
       "      <th>Total_Stops</th>\n",
       "      <th>Additional_Info</th>\n",
       "      <th>Price</th>\n",
       "      <th>day_of_journey</th>\n",
       "      <th>month_of_journey</th>\n",
       "      <th>Dep_hour</th>\n",
       "      <th>Dep_min</th>\n",
       "      <th>arrival_hour</th>\n",
       "      <th>arrival_min</th>\n",
       "    </tr>\n",
       "  </thead>\n",
       "  <tbody>\n",
       "    <tr>\n",
       "      <th>0</th>\n",
       "      <td>IndiGo</td>\n",
       "      <td>2019-03-24</td>\n",
       "      <td>Banglore</td>\n",
       "      <td>New Delhi</td>\n",
       "      <td>BLR → DEL</td>\n",
       "      <td>2023-04-05 22:20:00</td>\n",
       "      <td>2023-03-22 01:10:00</td>\n",
       "      <td>170</td>\n",
       "      <td>non-stop</td>\n",
       "      <td>No info</td>\n",
       "      <td>3897</td>\n",
       "      <td>24</td>\n",
       "      <td>3</td>\n",
       "      <td>22</td>\n",
       "      <td>20</td>\n",
       "      <td>1</td>\n",
       "      <td>10</td>\n",
       "    </tr>\n",
       "    <tr>\n",
       "      <th>1</th>\n",
       "      <td>Air India</td>\n",
       "      <td>2019-01-05</td>\n",
       "      <td>Kolkata</td>\n",
       "      <td>Banglore</td>\n",
       "      <td>CCU → IXR → BBI → BLR</td>\n",
       "      <td>2023-04-05 05:50:00</td>\n",
       "      <td>2023-04-05 13:15:00</td>\n",
       "      <td>445</td>\n",
       "      <td>2 stops</td>\n",
       "      <td>No info</td>\n",
       "      <td>7662</td>\n",
       "      <td>5</td>\n",
       "      <td>1</td>\n",
       "      <td>5</td>\n",
       "      <td>50</td>\n",
       "      <td>13</td>\n",
       "      <td>15</td>\n",
       "    </tr>\n",
       "    <tr>\n",
       "      <th>2</th>\n",
       "      <td>Jet Airways</td>\n",
       "      <td>2019-09-06</td>\n",
       "      <td>Delhi</td>\n",
       "      <td>Cochin</td>\n",
       "      <td>DEL → LKO → BOM → COK</td>\n",
       "      <td>2023-04-05 09:25:00</td>\n",
       "      <td>2023-06-10 04:25:00</td>\n",
       "      <td>1140</td>\n",
       "      <td>2 stops</td>\n",
       "      <td>No info</td>\n",
       "      <td>13882</td>\n",
       "      <td>6</td>\n",
       "      <td>9</td>\n",
       "      <td>9</td>\n",
       "      <td>25</td>\n",
       "      <td>4</td>\n",
       "      <td>25</td>\n",
       "    </tr>\n",
       "    <tr>\n",
       "      <th>3</th>\n",
       "      <td>IndiGo</td>\n",
       "      <td>2019-12-05</td>\n",
       "      <td>Kolkata</td>\n",
       "      <td>Banglore</td>\n",
       "      <td>CCU → NAG → BLR</td>\n",
       "      <td>2023-04-05 18:05:00</td>\n",
       "      <td>2023-04-05 23:30:00</td>\n",
       "      <td>325</td>\n",
       "      <td>1 stop</td>\n",
       "      <td>No info</td>\n",
       "      <td>6218</td>\n",
       "      <td>5</td>\n",
       "      <td>12</td>\n",
       "      <td>18</td>\n",
       "      <td>5</td>\n",
       "      <td>23</td>\n",
       "      <td>30</td>\n",
       "    </tr>\n",
       "    <tr>\n",
       "      <th>4</th>\n",
       "      <td>IndiGo</td>\n",
       "      <td>2019-01-03</td>\n",
       "      <td>Banglore</td>\n",
       "      <td>Banglore</td>\n",
       "      <td>BLR → NAG → DEL</td>\n",
       "      <td>2023-04-05 16:50:00</td>\n",
       "      <td>2023-04-05 21:35:00</td>\n",
       "      <td>285</td>\n",
       "      <td>1 stop</td>\n",
       "      <td>No info</td>\n",
       "      <td>13302</td>\n",
       "      <td>3</td>\n",
       "      <td>1</td>\n",
       "      <td>16</td>\n",
       "      <td>50</td>\n",
       "      <td>21</td>\n",
       "      <td>35</td>\n",
       "    </tr>\n",
       "    <tr>\n",
       "      <th>...</th>\n",
       "      <td>...</td>\n",
       "      <td>...</td>\n",
       "      <td>...</td>\n",
       "      <td>...</td>\n",
       "      <td>...</td>\n",
       "      <td>...</td>\n",
       "      <td>...</td>\n",
       "      <td>...</td>\n",
       "      <td>...</td>\n",
       "      <td>...</td>\n",
       "      <td>...</td>\n",
       "      <td>...</td>\n",
       "      <td>...</td>\n",
       "      <td>...</td>\n",
       "      <td>...</td>\n",
       "      <td>...</td>\n",
       "      <td>...</td>\n",
       "    </tr>\n",
       "    <tr>\n",
       "      <th>10678</th>\n",
       "      <td>Air Asia</td>\n",
       "      <td>2019-09-04</td>\n",
       "      <td>Kolkata</td>\n",
       "      <td>Banglore</td>\n",
       "      <td>CCU → BLR</td>\n",
       "      <td>2023-04-05 19:55:00</td>\n",
       "      <td>2023-04-05 22:25:00</td>\n",
       "      <td>150</td>\n",
       "      <td>non-stop</td>\n",
       "      <td>No info</td>\n",
       "      <td>4107</td>\n",
       "      <td>4</td>\n",
       "      <td>9</td>\n",
       "      <td>19</td>\n",
       "      <td>55</td>\n",
       "      <td>22</td>\n",
       "      <td>25</td>\n",
       "    </tr>\n",
       "    <tr>\n",
       "      <th>10679</th>\n",
       "      <td>Air India</td>\n",
       "      <td>2019-04-27</td>\n",
       "      <td>Kolkata</td>\n",
       "      <td>Banglore</td>\n",
       "      <td>CCU → BLR</td>\n",
       "      <td>2023-04-05 20:45:00</td>\n",
       "      <td>2023-04-05 23:20:00</td>\n",
       "      <td>155</td>\n",
       "      <td>non-stop</td>\n",
       "      <td>No info</td>\n",
       "      <td>4145</td>\n",
       "      <td>27</td>\n",
       "      <td>4</td>\n",
       "      <td>20</td>\n",
       "      <td>45</td>\n",
       "      <td>23</td>\n",
       "      <td>20</td>\n",
       "    </tr>\n",
       "    <tr>\n",
       "      <th>10680</th>\n",
       "      <td>Jet Airways</td>\n",
       "      <td>2019-04-27</td>\n",
       "      <td>Banglore</td>\n",
       "      <td>Banglore</td>\n",
       "      <td>BLR → DEL</td>\n",
       "      <td>2023-04-05 08:20:00</td>\n",
       "      <td>2023-04-05 11:20:00</td>\n",
       "      <td>180</td>\n",
       "      <td>non-stop</td>\n",
       "      <td>No info</td>\n",
       "      <td>7229</td>\n",
       "      <td>27</td>\n",
       "      <td>4</td>\n",
       "      <td>8</td>\n",
       "      <td>20</td>\n",
       "      <td>11</td>\n",
       "      <td>20</td>\n",
       "    </tr>\n",
       "    <tr>\n",
       "      <th>10681</th>\n",
       "      <td>Vistara</td>\n",
       "      <td>2019-01-03</td>\n",
       "      <td>Banglore</td>\n",
       "      <td>Banglore</td>\n",
       "      <td>BLR → DEL</td>\n",
       "      <td>2023-04-05 11:30:00</td>\n",
       "      <td>2023-04-05 14:10:00</td>\n",
       "      <td>160</td>\n",
       "      <td>non-stop</td>\n",
       "      <td>No info</td>\n",
       "      <td>12648</td>\n",
       "      <td>3</td>\n",
       "      <td>1</td>\n",
       "      <td>11</td>\n",
       "      <td>30</td>\n",
       "      <td>14</td>\n",
       "      <td>10</td>\n",
       "    </tr>\n",
       "    <tr>\n",
       "      <th>10682</th>\n",
       "      <td>Air India</td>\n",
       "      <td>2019-09-05</td>\n",
       "      <td>Delhi</td>\n",
       "      <td>Cochin</td>\n",
       "      <td>DEL → GOI → BOM → COK</td>\n",
       "      <td>2023-04-05 10:55:00</td>\n",
       "      <td>2023-04-05 19:15:00</td>\n",
       "      <td>500</td>\n",
       "      <td>2 stops</td>\n",
       "      <td>No info</td>\n",
       "      <td>11753</td>\n",
       "      <td>5</td>\n",
       "      <td>9</td>\n",
       "      <td>10</td>\n",
       "      <td>55</td>\n",
       "      <td>19</td>\n",
       "      <td>15</td>\n",
       "    </tr>\n",
       "  </tbody>\n",
       "</table>\n",
       "<p>10683 rows × 17 columns</p>\n",
       "</div>"
      ],
      "text/plain": [
       "           Airline Date_of_Journey    Source Destination  \\\n",
       "0           IndiGo      2019-03-24  Banglore   New Delhi   \n",
       "1        Air India      2019-01-05   Kolkata    Banglore   \n",
       "2      Jet Airways      2019-09-06     Delhi      Cochin   \n",
       "3           IndiGo      2019-12-05   Kolkata    Banglore   \n",
       "4           IndiGo      2019-01-03  Banglore    Banglore   \n",
       "...            ...             ...       ...         ...   \n",
       "10678     Air Asia      2019-09-04   Kolkata    Banglore   \n",
       "10679    Air India      2019-04-27   Kolkata    Banglore   \n",
       "10680  Jet Airways      2019-04-27  Banglore    Banglore   \n",
       "10681      Vistara      2019-01-03  Banglore    Banglore   \n",
       "10682    Air India      2019-09-05     Delhi      Cochin   \n",
       "\n",
       "                       Route            Dep_Time        Arrival_Time  \\\n",
       "0                  BLR → DEL 2023-04-05 22:20:00 2023-03-22 01:10:00   \n",
       "1      CCU → IXR → BBI → BLR 2023-04-05 05:50:00 2023-04-05 13:15:00   \n",
       "2      DEL → LKO → BOM → COK 2023-04-05 09:25:00 2023-06-10 04:25:00   \n",
       "3            CCU → NAG → BLR 2023-04-05 18:05:00 2023-04-05 23:30:00   \n",
       "4            BLR → NAG → DEL 2023-04-05 16:50:00 2023-04-05 21:35:00   \n",
       "...                      ...                 ...                 ...   \n",
       "10678              CCU → BLR 2023-04-05 19:55:00 2023-04-05 22:25:00   \n",
       "10679              CCU → BLR 2023-04-05 20:45:00 2023-04-05 23:20:00   \n",
       "10680              BLR → DEL 2023-04-05 08:20:00 2023-04-05 11:20:00   \n",
       "10681              BLR → DEL 2023-04-05 11:30:00 2023-04-05 14:10:00   \n",
       "10682  DEL → GOI → BOM → COK 2023-04-05 10:55:00 2023-04-05 19:15:00   \n",
       "\n",
       "       Duration Total_Stops Additional_Info  Price  day_of_journey  \\\n",
       "0           170    non-stop         No info   3897              24   \n",
       "1           445     2 stops         No info   7662               5   \n",
       "2          1140     2 stops         No info  13882               6   \n",
       "3           325      1 stop         No info   6218               5   \n",
       "4           285      1 stop         No info  13302               3   \n",
       "...         ...         ...             ...    ...             ...   \n",
       "10678       150    non-stop         No info   4107               4   \n",
       "10679       155    non-stop         No info   4145              27   \n",
       "10680       180    non-stop         No info   7229              27   \n",
       "10681       160    non-stop         No info  12648               3   \n",
       "10682       500     2 stops         No info  11753               5   \n",
       "\n",
       "       month_of_journey  Dep_hour  Dep_min  arrival_hour  arrival_min  \n",
       "0                     3        22       20             1           10  \n",
       "1                     1         5       50            13           15  \n",
       "2                     9         9       25             4           25  \n",
       "3                    12        18        5            23           30  \n",
       "4                     1        16       50            21           35  \n",
       "...                 ...       ...      ...           ...          ...  \n",
       "10678                 9        19       55            22           25  \n",
       "10679                 4        20       45            23           20  \n",
       "10680                 4         8       20            11           20  \n",
       "10681                 1        11       30            14           10  \n",
       "10682                 9        10       55            19           15  \n",
       "\n",
       "[10683 rows x 17 columns]"
      ]
     },
     "execution_count": 26,
     "metadata": {},
     "output_type": "execute_result"
    }
   ],
   "source": [
    "df #.head()"
   ]
  },
  {
   "cell_type": "markdown",
   "id": "50f8ea23",
   "metadata": {},
   "source": [
    "####  do encoding on \"total_stopa\" column"
   ]
  },
  {
   "cell_type": "code",
   "execution_count": 28,
   "id": "f9a690dc",
   "metadata": {},
   "outputs": [],
   "source": [
    "df.replace({\"non-stop\":0,\"1 stop\":1,\"2 stops\":2,\"3 stops\":3,\"4 stops\":4},inplace=True)"
   ]
  },
  {
   "cell_type": "code",
   "execution_count": 29,
   "id": "f30e4f33",
   "metadata": {},
   "outputs": [
    {
     "data": {
      "text/plain": [
       "Airline                     object\n",
       "Date_of_Journey     datetime64[ns]\n",
       "Source                      object\n",
       "Destination                 object\n",
       "Route                       object\n",
       "Dep_Time            datetime64[ns]\n",
       "Arrival_Time        datetime64[ns]\n",
       "Duration                     int64\n",
       "Total_Stops                  int64\n",
       "Additional_Info             object\n",
       "Price                        int64\n",
       "day_of_journey               int64\n",
       "month_of_journey             int64\n",
       "Dep_hour                     int64\n",
       "Dep_min                      int64\n",
       "arrival_hour                 int64\n",
       "arrival_min                  int64\n",
       "dtype: object"
      ]
     },
     "execution_count": 29,
     "metadata": {},
     "output_type": "execute_result"
    }
   ],
   "source": [
    "df.dtypes"
   ]
  },
  {
   "cell_type": "code",
   "execution_count": 30,
   "id": "07d24928",
   "metadata": {},
   "outputs": [
    {
     "data": {
      "text/html": [
       "<div>\n",
       "<style scoped>\n",
       "    .dataframe tbody tr th:only-of-type {\n",
       "        vertical-align: middle;\n",
       "    }\n",
       "\n",
       "    .dataframe tbody tr th {\n",
       "        vertical-align: top;\n",
       "    }\n",
       "\n",
       "    .dataframe thead th {\n",
       "        text-align: right;\n",
       "    }\n",
       "</style>\n",
       "<table border=\"1\" class=\"dataframe\">\n",
       "  <thead>\n",
       "    <tr style=\"text-align: right;\">\n",
       "      <th></th>\n",
       "      <th>Airline</th>\n",
       "      <th>Date_of_Journey</th>\n",
       "      <th>Source</th>\n",
       "      <th>Destination</th>\n",
       "      <th>Route</th>\n",
       "      <th>Dep_Time</th>\n",
       "      <th>Arrival_Time</th>\n",
       "      <th>Duration</th>\n",
       "      <th>Total_Stops</th>\n",
       "      <th>Additional_Info</th>\n",
       "      <th>Price</th>\n",
       "      <th>day_of_journey</th>\n",
       "      <th>month_of_journey</th>\n",
       "      <th>Dep_hour</th>\n",
       "      <th>Dep_min</th>\n",
       "      <th>arrival_hour</th>\n",
       "      <th>arrival_min</th>\n",
       "    </tr>\n",
       "  </thead>\n",
       "  <tbody>\n",
       "    <tr>\n",
       "      <th>0</th>\n",
       "      <td>IndiGo</td>\n",
       "      <td>2019-03-24</td>\n",
       "      <td>Banglore</td>\n",
       "      <td>New Delhi</td>\n",
       "      <td>BLR → DEL</td>\n",
       "      <td>2023-04-05 22:20:00</td>\n",
       "      <td>2023-03-22 01:10:00</td>\n",
       "      <td>170</td>\n",
       "      <td>0</td>\n",
       "      <td>No info</td>\n",
       "      <td>3897</td>\n",
       "      <td>24</td>\n",
       "      <td>3</td>\n",
       "      <td>22</td>\n",
       "      <td>20</td>\n",
       "      <td>1</td>\n",
       "      <td>10</td>\n",
       "    </tr>\n",
       "    <tr>\n",
       "      <th>1</th>\n",
       "      <td>Air India</td>\n",
       "      <td>2019-01-05</td>\n",
       "      <td>Kolkata</td>\n",
       "      <td>Banglore</td>\n",
       "      <td>CCU → IXR → BBI → BLR</td>\n",
       "      <td>2023-04-05 05:50:00</td>\n",
       "      <td>2023-04-05 13:15:00</td>\n",
       "      <td>445</td>\n",
       "      <td>2</td>\n",
       "      <td>No info</td>\n",
       "      <td>7662</td>\n",
       "      <td>5</td>\n",
       "      <td>1</td>\n",
       "      <td>5</td>\n",
       "      <td>50</td>\n",
       "      <td>13</td>\n",
       "      <td>15</td>\n",
       "    </tr>\n",
       "    <tr>\n",
       "      <th>2</th>\n",
       "      <td>Jet Airways</td>\n",
       "      <td>2019-09-06</td>\n",
       "      <td>Delhi</td>\n",
       "      <td>Cochin</td>\n",
       "      <td>DEL → LKO → BOM → COK</td>\n",
       "      <td>2023-04-05 09:25:00</td>\n",
       "      <td>2023-06-10 04:25:00</td>\n",
       "      <td>1140</td>\n",
       "      <td>2</td>\n",
       "      <td>No info</td>\n",
       "      <td>13882</td>\n",
       "      <td>6</td>\n",
       "      <td>9</td>\n",
       "      <td>9</td>\n",
       "      <td>25</td>\n",
       "      <td>4</td>\n",
       "      <td>25</td>\n",
       "    </tr>\n",
       "    <tr>\n",
       "      <th>3</th>\n",
       "      <td>IndiGo</td>\n",
       "      <td>2019-12-05</td>\n",
       "      <td>Kolkata</td>\n",
       "      <td>Banglore</td>\n",
       "      <td>CCU → NAG → BLR</td>\n",
       "      <td>2023-04-05 18:05:00</td>\n",
       "      <td>2023-04-05 23:30:00</td>\n",
       "      <td>325</td>\n",
       "      <td>1</td>\n",
       "      <td>No info</td>\n",
       "      <td>6218</td>\n",
       "      <td>5</td>\n",
       "      <td>12</td>\n",
       "      <td>18</td>\n",
       "      <td>5</td>\n",
       "      <td>23</td>\n",
       "      <td>30</td>\n",
       "    </tr>\n",
       "    <tr>\n",
       "      <th>4</th>\n",
       "      <td>IndiGo</td>\n",
       "      <td>2019-01-03</td>\n",
       "      <td>Banglore</td>\n",
       "      <td>Banglore</td>\n",
       "      <td>BLR → NAG → DEL</td>\n",
       "      <td>2023-04-05 16:50:00</td>\n",
       "      <td>2023-04-05 21:35:00</td>\n",
       "      <td>285</td>\n",
       "      <td>1</td>\n",
       "      <td>No info</td>\n",
       "      <td>13302</td>\n",
       "      <td>3</td>\n",
       "      <td>1</td>\n",
       "      <td>16</td>\n",
       "      <td>50</td>\n",
       "      <td>21</td>\n",
       "      <td>35</td>\n",
       "    </tr>\n",
       "  </tbody>\n",
       "</table>\n",
       "</div>"
      ],
      "text/plain": [
       "       Airline Date_of_Journey    Source Destination                  Route  \\\n",
       "0       IndiGo      2019-03-24  Banglore   New Delhi              BLR → DEL   \n",
       "1    Air India      2019-01-05   Kolkata    Banglore  CCU → IXR → BBI → BLR   \n",
       "2  Jet Airways      2019-09-06     Delhi      Cochin  DEL → LKO → BOM → COK   \n",
       "3       IndiGo      2019-12-05   Kolkata    Banglore        CCU → NAG → BLR   \n",
       "4       IndiGo      2019-01-03  Banglore    Banglore        BLR → NAG → DEL   \n",
       "\n",
       "             Dep_Time        Arrival_Time  Duration  Total_Stops  \\\n",
       "0 2023-04-05 22:20:00 2023-03-22 01:10:00       170            0   \n",
       "1 2023-04-05 05:50:00 2023-04-05 13:15:00       445            2   \n",
       "2 2023-04-05 09:25:00 2023-06-10 04:25:00      1140            2   \n",
       "3 2023-04-05 18:05:00 2023-04-05 23:30:00       325            1   \n",
       "4 2023-04-05 16:50:00 2023-04-05 21:35:00       285            1   \n",
       "\n",
       "  Additional_Info  Price  day_of_journey  month_of_journey  Dep_hour  Dep_min  \\\n",
       "0         No info   3897              24                 3        22       20   \n",
       "1         No info   7662               5                 1         5       50   \n",
       "2         No info  13882               6                 9         9       25   \n",
       "3         No info   6218               5                12        18        5   \n",
       "4         No info  13302               3                 1        16       50   \n",
       "\n",
       "   arrival_hour  arrival_min  \n",
       "0             1           10  \n",
       "1            13           15  \n",
       "2             4           25  \n",
       "3            23           30  \n",
       "4            21           35  "
      ]
     },
     "execution_count": 30,
     "metadata": {},
     "output_type": "execute_result"
    }
   ],
   "source": [
    "df.head(5)"
   ]
  },
  {
   "cell_type": "code",
   "execution_count": 31,
   "id": "8e19bfc1",
   "metadata": {},
   "outputs": [
    {
     "data": {
      "text/plain": [
       "Airline                     object\n",
       "Date_of_Journey     datetime64[ns]\n",
       "Source                      object\n",
       "Destination                 object\n",
       "Route                       object\n",
       "Dep_Time            datetime64[ns]\n",
       "Arrival_Time        datetime64[ns]\n",
       "Duration                     int64\n",
       "Total_Stops                  int64\n",
       "Additional_Info             object\n",
       "Price                        int64\n",
       "day_of_journey               int64\n",
       "month_of_journey             int64\n",
       "Dep_hour                     int64\n",
       "Dep_min                      int64\n",
       "arrival_hour                 int64\n",
       "arrival_min                  int64\n",
       "dtype: object"
      ]
     },
     "execution_count": 31,
     "metadata": {},
     "output_type": "execute_result"
    }
   ],
   "source": [
    "df.dtypes"
   ]
  },
  {
   "cell_type": "markdown",
   "id": "fe8c2f7b",
   "metadata": {},
   "source": [
    "### Correlation"
   ]
  },
  {
   "cell_type": "code",
   "execution_count": 32,
   "id": "2a80edef",
   "metadata": {},
   "outputs": [
    {
     "data": {
      "image/png": "[encoded data removed]",
      "text/plain": [
       "<Figure size 720x360 with 2 Axes>"
      ]
     },
     "metadata": {
      "needs_background": "light"
     },
     "output_type": "display_data"
    }
   ],
   "source": [
    "plt.figure(figsize=(10,5))\n",
    "sns.heatmap(df.corr(),annot=True);"
   ]
  },
  {
   "cell_type": "code",
   "execution_count": 33,
   "id": "a827633b",
   "metadata": {},
   "outputs": [
    {
     "data": {
      "text/html": [
       "<div>\n",
       "<style scoped>\n",
       "    .dataframe tbody tr th:only-of-type {\n",
       "        vertical-align: middle;\n",
       "    }\n",
       "\n",
       "    .dataframe tbody tr th {\n",
       "        vertical-align: top;\n",
       "    }\n",
       "\n",
       "    .dataframe thead th {\n",
       "        text-align: right;\n",
       "    }\n",
       "</style>\n",
       "<table border=\"1\" class=\"dataframe\">\n",
       "  <thead>\n",
       "    <tr style=\"text-align: right;\">\n",
       "      <th></th>\n",
       "      <th>count</th>\n",
       "      <th>mean</th>\n",
       "      <th>std</th>\n",
       "      <th>min</th>\n",
       "      <th>25%</th>\n",
       "      <th>50%</th>\n",
       "      <th>75%</th>\n",
       "      <th>max</th>\n",
       "    </tr>\n",
       "  </thead>\n",
       "  <tbody>\n",
       "    <tr>\n",
       "      <th>Duration</th>\n",
       "      <td>10683.0</td>\n",
       "      <td>643.093232</td>\n",
       "      <td>507.862001</td>\n",
       "      <td>5.0</td>\n",
       "      <td>170.0</td>\n",
       "      <td>520.0</td>\n",
       "      <td>930.0</td>\n",
       "      <td>2860.0</td>\n",
       "    </tr>\n",
       "    <tr>\n",
       "      <th>Total_Stops</th>\n",
       "      <td>10683.0</td>\n",
       "      <td>0.824207</td>\n",
       "      <td>0.675199</td>\n",
       "      <td>0.0</td>\n",
       "      <td>0.0</td>\n",
       "      <td>1.0</td>\n",
       "      <td>1.0</td>\n",
       "      <td>4.0</td>\n",
       "    </tr>\n",
       "    <tr>\n",
       "      <th>Price</th>\n",
       "      <td>10683.0</td>\n",
       "      <td>9087.064121</td>\n",
       "      <td>4611.359167</td>\n",
       "      <td>1759.0</td>\n",
       "      <td>5277.0</td>\n",
       "      <td>8372.0</td>\n",
       "      <td>12373.0</td>\n",
       "      <td>79512.0</td>\n",
       "    </tr>\n",
       "    <tr>\n",
       "      <th>day_of_journey</th>\n",
       "      <td>10683.0</td>\n",
       "      <td>12.682205</td>\n",
       "      <td>8.803701</td>\n",
       "      <td>3.0</td>\n",
       "      <td>5.0</td>\n",
       "      <td>6.0</td>\n",
       "      <td>21.0</td>\n",
       "      <td>27.0</td>\n",
       "    </tr>\n",
       "    <tr>\n",
       "      <th>month_of_journey</th>\n",
       "      <td>10683.0</td>\n",
       "      <td>5.534775</td>\n",
       "      <td>2.987489</td>\n",
       "      <td>1.0</td>\n",
       "      <td>3.0</td>\n",
       "      <td>5.0</td>\n",
       "      <td>6.0</td>\n",
       "      <td>12.0</td>\n",
       "    </tr>\n",
       "    <tr>\n",
       "      <th>Dep_hour</th>\n",
       "      <td>10683.0</td>\n",
       "      <td>12.490686</td>\n",
       "      <td>5.748650</td>\n",
       "      <td>0.0</td>\n",
       "      <td>8.0</td>\n",
       "      <td>11.0</td>\n",
       "      <td>18.0</td>\n",
       "      <td>23.0</td>\n",
       "    </tr>\n",
       "    <tr>\n",
       "      <th>Dep_min</th>\n",
       "      <td>10683.0</td>\n",
       "      <td>24.411214</td>\n",
       "      <td>18.767980</td>\n",
       "      <td>0.0</td>\n",
       "      <td>5.0</td>\n",
       "      <td>25.0</td>\n",
       "      <td>40.0</td>\n",
       "      <td>55.0</td>\n",
       "    </tr>\n",
       "    <tr>\n",
       "      <th>arrival_hour</th>\n",
       "      <td>10683.0</td>\n",
       "      <td>13.348778</td>\n",
       "      <td>6.859125</td>\n",
       "      <td>0.0</td>\n",
       "      <td>8.0</td>\n",
       "      <td>14.0</td>\n",
       "      <td>19.0</td>\n",
       "      <td>23.0</td>\n",
       "    </tr>\n",
       "    <tr>\n",
       "      <th>arrival_min</th>\n",
       "      <td>10683.0</td>\n",
       "      <td>24.690630</td>\n",
       "      <td>16.506036</td>\n",
       "      <td>0.0</td>\n",
       "      <td>10.0</td>\n",
       "      <td>25.0</td>\n",
       "      <td>35.0</td>\n",
       "      <td>55.0</td>\n",
       "    </tr>\n",
       "  </tbody>\n",
       "</table>\n",
       "</div>"
      ],
      "text/plain": [
       "                    count         mean          std     min     25%     50%  \\\n",
       "Duration          10683.0   643.093232   507.862001     5.0   170.0   520.0   \n",
       "Total_Stops       10683.0     0.824207     0.675199     0.0     0.0     1.0   \n",
       "Price             10683.0  9087.064121  4611.359167  1759.0  5277.0  8372.0   \n",
       "day_of_journey    10683.0    12.682205     8.803701     3.0     5.0     6.0   \n",
       "month_of_journey  10683.0     5.534775     2.987489     1.0     3.0     5.0   \n",
       "Dep_hour          10683.0    12.490686     5.748650     0.0     8.0    11.0   \n",
       "Dep_min           10683.0    24.411214    18.767980     0.0     5.0    25.0   \n",
       "arrival_hour      10683.0    13.348778     6.859125     0.0     8.0    14.0   \n",
       "arrival_min       10683.0    24.690630    16.506036     0.0    10.0    25.0   \n",
       "\n",
       "                      75%      max  \n",
       "Duration            930.0   2860.0  \n",
       "Total_Stops           1.0      4.0  \n",
       "Price             12373.0  79512.0  \n",
       "day_of_journey       21.0     27.0  \n",
       "month_of_journey      6.0     12.0  \n",
       "Dep_hour             18.0     23.0  \n",
       "Dep_min              40.0     55.0  \n",
       "arrival_hour         19.0     23.0  \n",
       "arrival_min          35.0     55.0  "
      ]
     },
     "execution_count": 33,
     "metadata": {},
     "output_type": "execute_result"
    }
   ],
   "source": [
    "df.describe().T"
   ]
  },
  {
   "cell_type": "markdown",
   "id": "29181892",
   "metadata": {},
   "source": [
    "#### price is main aspect we do tha analysis price point view mostly"
   ]
  },
  {
   "cell_type": "code",
   "execution_count": 34,
   "id": "98ac36a5",
   "metadata": {},
   "outputs": [
    {
     "data": {
      "text/html": [
       "<div>\n",
       "<style scoped>\n",
       "    .dataframe tbody tr th:only-of-type {\n",
       "        vertical-align: middle;\n",
       "    }\n",
       "\n",
       "    .dataframe tbody tr th {\n",
       "        vertical-align: top;\n",
       "    }\n",
       "\n",
       "    .dataframe thead th {\n",
       "        text-align: right;\n",
       "    }\n",
       "</style>\n",
       "<table border=\"1\" class=\"dataframe\">\n",
       "  <thead>\n",
       "    <tr style=\"text-align: right;\">\n",
       "      <th></th>\n",
       "      <th>Airline</th>\n",
       "      <th>Date_of_Journey</th>\n",
       "      <th>Source</th>\n",
       "      <th>Destination</th>\n",
       "      <th>Route</th>\n",
       "      <th>Dep_Time</th>\n",
       "      <th>Arrival_Time</th>\n",
       "      <th>Duration</th>\n",
       "      <th>Total_Stops</th>\n",
       "      <th>Additional_Info</th>\n",
       "      <th>Price</th>\n",
       "      <th>day_of_journey</th>\n",
       "      <th>month_of_journey</th>\n",
       "      <th>Dep_hour</th>\n",
       "      <th>Dep_min</th>\n",
       "      <th>arrival_hour</th>\n",
       "      <th>arrival_min</th>\n",
       "    </tr>\n",
       "  </thead>\n",
       "  <tbody>\n",
       "    <tr>\n",
       "      <th>6474</th>\n",
       "      <td>Air India</td>\n",
       "      <td>2019-06-03</td>\n",
       "      <td>Mumbai</td>\n",
       "      <td>Hyderabad</td>\n",
       "      <td>BOM → GOI → PNQ → HYD</td>\n",
       "      <td>2023-04-05 16:50:00</td>\n",
       "      <td>2023-04-05 16:55:00</td>\n",
       "      <td>5</td>\n",
       "      <td>2</td>\n",
       "      <td>No info</td>\n",
       "      <td>17327</td>\n",
       "      <td>3</td>\n",
       "      <td>6</td>\n",
       "      <td>16</td>\n",
       "      <td>50</td>\n",
       "      <td>16</td>\n",
       "      <td>55</td>\n",
       "    </tr>\n",
       "  </tbody>\n",
       "</table>\n",
       "</div>"
      ],
      "text/plain": [
       "        Airline Date_of_Journey  Source Destination                  Route  \\\n",
       "6474  Air India      2019-06-03  Mumbai   Hyderabad  BOM → GOI → PNQ → HYD   \n",
       "\n",
       "                Dep_Time        Arrival_Time  Duration  Total_Stops  \\\n",
       "6474 2023-04-05 16:50:00 2023-04-05 16:55:00         5            2   \n",
       "\n",
       "     Additional_Info  Price  day_of_journey  month_of_journey  Dep_hour  \\\n",
       "6474         No info  17327               3                 6        16   \n",
       "\n",
       "      Dep_min  arrival_hour  arrival_min  \n",
       "6474       50            16           55  "
      ]
     },
     "execution_count": 34,
     "metadata": {},
     "output_type": "execute_result"
    }
   ],
   "source": [
    "df[df[\"Duration\"] == 5.0]"
   ]
  },
  {
   "cell_type": "code",
   "execution_count": 35,
   "id": "148f7169",
   "metadata": {},
   "outputs": [],
   "source": [
    "x=df[(df[\"Source\"] == \"Mumbai\")&(df[\"Destination\"] == \"Hyderabad\")&(df[\"Total_Stops\"]==2)]"
   ]
  },
  {
   "cell_type": "code",
   "execution_count": 36,
   "id": "91d466e1",
   "metadata": {},
   "outputs": [
    {
     "data": {
      "text/plain": [
       "0     255\n",
       "1     560\n",
       "2     710\n",
       "3    1795\n",
       "4    2245\n",
       "Name: Duration, dtype: int64"
      ]
     },
     "execution_count": 36,
     "metadata": {},
     "output_type": "execute_result"
    }
   ],
   "source": [
    "x[\"Duration\"].mode()"
   ]
  },
  {
   "cell_type": "code",
   "execution_count": 37,
   "id": "346a89df",
   "metadata": {},
   "outputs": [
    {
     "data": {
      "text/plain": [
       "1101.33"
      ]
     },
     "execution_count": 37,
     "metadata": {},
     "output_type": "execute_result"
    }
   ],
   "source": [
    "round(x[\"Duration\"].mean(),2)"
   ]
  },
  {
   "cell_type": "code",
   "execution_count": 38,
   "id": "b295a3ce",
   "metadata": {},
   "outputs": [
    {
     "name": "stderr",
     "output_type": "stream",
     "text": [
      "C:\\Users\\ad\\AppData\\Local\\Temp\\ipykernel_12016\\2243611774.py:1: SettingWithCopyWarning: \n",
      "A value is trying to be set on a copy of a slice from a DataFrame\n",
      "\n",
      "See the caveats in the documentation: https://pandas.pydata.org/pandas-docs/stable/user_guide/indexing.html#returning-a-view-versus-a-copy\n",
      "  df[\"Duration\"].iloc[6474]=round(x[\"Duration\"].mean(),2)\n"
     ]
    }
   ],
   "source": [
    "df[\"Duration\"].iloc[6474]=round(x[\"Duration\"].mean(),2)"
   ]
  },
  {
   "cell_type": "code",
   "execution_count": 39,
   "id": "2adf13e7",
   "metadata": {},
   "outputs": [
    {
     "data": {
      "text/plain": [
       "Airline                         Air India\n",
       "Date_of_Journey       2019-06-03 00:00:00\n",
       "Source                             Mumbai\n",
       "Destination                     Hyderabad\n",
       "Route               BOM → GOI → PNQ → HYD\n",
       "Dep_Time              2023-04-05 16:50:00\n",
       "Arrival_Time          2023-04-05 16:55:00\n",
       "Duration                          1101.33\n",
       "Total_Stops                             2\n",
       "Additional_Info                   No info\n",
       "Price                               17327\n",
       "day_of_journey                          3\n",
       "month_of_journey                        6\n",
       "Dep_hour                               16\n",
       "Dep_min                                50\n",
       "arrival_hour                           16\n",
       "arrival_min                            55\n",
       "Name: 6474, dtype: object"
      ]
     },
     "execution_count": 39,
     "metadata": {},
     "output_type": "execute_result"
    }
   ],
   "source": [
    "df.iloc[6474]"
   ]
  },
  {
   "cell_type": "markdown",
   "id": "1c63c7b7",
   "metadata": {},
   "source": [
    "#### Univarite analysis on price."
   ]
  },
  {
   "cell_type": "code",
   "execution_count": 40,
   "id": "ecf9c640",
   "metadata": {},
   "outputs": [
    {
     "name": "stderr",
     "output_type": "stream",
     "text": [
      "C:\\Users\\ad\\anaconda3\\lib\\site-packages\\seaborn\\_decorators.py:36: FutureWarning: Pass the following variable as a keyword arg: x. From version 0.12, the only valid positional argument will be `data`, and passing other arguments without an explicit keyword will result in an error or misinterpretation.\n",
      "  warnings.warn(\n"
     ]
    },
    {
     "data": {
      "image/png": "[encoded data removed]",
      "text/plain": [
       "<Figure size 432x288 with 1 Axes>"
      ]
     },
     "metadata": {
      "needs_background": "light"
     },
     "output_type": "display_data"
    }
   ],
   "source": [
    "sns.boxplot(df[\"Price\"]);"
   ]
  },
  {
   "cell_type": "markdown",
   "id": "41bc6bd1",
   "metadata": {},
   "source": [
    "- mostly price distributed btw 5k to 15k "
   ]
  },
  {
   "cell_type": "markdown",
   "id": "8bc071f6",
   "metadata": {},
   "source": [
    "####  From the output we can  price has outiyers"
   ]
  },
  {
   "cell_type": "code",
   "execution_count": 41,
   "id": "60e4aada",
   "metadata": {},
   "outputs": [
    {
     "data": {
      "text/plain": [
       "(array([6.029e+03, 4.390e+03, 1.820e+02, 6.600e+01, 7.000e+00, 1.000e+00,\n",
       "        5.000e+00, 2.000e+00, 0.000e+00, 1.000e+00]),\n",
       " array([ 1759. ,  9534.3, 17309.6, 25084.9, 32860.2, 40635.5, 48410.8,\n",
       "        56186.1, 63961.4, 71736.7, 79512. ]),\n",
       " <BarContainer object of 10 artists>)"
      ]
     },
     "execution_count": 41,
     "metadata": {},
     "output_type": "execute_result"
    },
    {
     "data": {
      "image/png": "[encoded data removed]",
      "text/plain": [
       "<Figure size 432x288 with 1 Axes>"
      ]
     },
     "metadata": {
      "needs_background": "light"
     },
     "output_type": "display_data"
    }
   ],
   "source": [
    "plt.hist(df[\"Price\"])"
   ]
  },
  {
   "cell_type": "code",
   "execution_count": 42,
   "id": "85bf47ce",
   "metadata": {},
   "outputs": [
    {
     "name": "stderr",
     "output_type": "stream",
     "text": [
      "C:\\Users\\ad\\anaconda3\\lib\\site-packages\\seaborn\\distributions.py:2619: FutureWarning: `distplot` is a deprecated function and will be removed in a future version. Please adapt your code to use either `displot` (a figure-level function with similar flexibility) or `histplot` (an axes-level function for histograms).\n",
      "  warnings.warn(msg, FutureWarning)\n"
     ]
    },
    {
     "data": {
      "image/png": "[encoded data removed]",
      "text/plain": [
       "<Figure size 432x288 with 1 Axes>"
      ]
     },
     "metadata": {
      "needs_background": "light"
     },
     "output_type": "display_data"
    }
   ],
   "source": [
    "sns.distplot(df[\"Price\"]);"
   ]
  },
  {
   "cell_type": "markdown",
   "id": "7a1d5bbd",
   "metadata": {},
   "source": [
    "#### Find tha max min and avg price of flight of data."
   ]
  },
  {
   "cell_type": "code",
   "execution_count": 43,
   "id": "73591346",
   "metadata": {},
   "outputs": [
    {
     "data": {
      "text/plain": [
       "mean     9087.064121\n",
       "max     79512.000000\n",
       "min      1759.000000\n",
       "Name: Price, dtype: float64"
      ]
     },
     "execution_count": 43,
     "metadata": {},
     "output_type": "execute_result"
    }
   ],
   "source": [
    "df[\"Price\"].agg([\"mean\",\"max\",\"min\"])"
   ]
  },
  {
   "cell_type": "markdown",
   "id": "768e24f9",
   "metadata": {},
   "source": [
    "#### Find tha total number of flights of each company."
   ]
  },
  {
   "cell_type": "code",
   "execution_count": 138,
   "id": "a05de044",
   "metadata": {},
   "outputs": [
    {
     "data": {
      "text/plain": [
       "Jet Airways                          3849\n",
       "IndiGo                               2053\n",
       "Air India                            1752\n",
       "Multiple carriers                    1196\n",
       "SpiceJet                              818\n",
       "Vistara                               479\n",
       "Air Asia                              319\n",
       "GoAir                                 194\n",
       "Multiple carriers Premium economy      13\n",
       "Jet Airways Business                    6\n",
       "Vistara Premium economy                 3\n",
       "Trujet                                  1\n",
       "Name: Airline, dtype: int64"
      ]
     },
     "execution_count": 138,
     "metadata": {},
     "output_type": "execute_result"
    }
   ],
   "source": [
    "df[\"Airline\"].value_counts()"
   ]
  },
  {
   "cell_type": "code",
   "execution_count": 44,
   "id": "c0cf1d10",
   "metadata": {},
   "outputs": [
    {
     "name": "stderr",
     "output_type": "stream",
     "text": [
      "C:\\Users\\ad\\anaconda3\\lib\\site-packages\\seaborn\\_decorators.py:36: FutureWarning: Pass the following variable as a keyword arg: x. From version 0.12, the only valid positional argument will be `data`, and passing other arguments without an explicit keyword will result in an error or misinterpretation.\n",
      "  warnings.warn(\n"
     ]
    },
    {
     "data": {
      "image/png": "[encoded data removed]",
      "text/plain": [
       "<Figure size 432x288 with 1 Axes>"
      ]
     },
     "metadata": {
      "needs_background": "light"
     },
     "output_type": "display_data"
    }
   ],
   "source": [
    "sns.countplot(df[\"Airline\"])\n",
    "plt.xticks(rotation=90);"
   ]
  },
  {
   "cell_type": "markdown",
   "id": "cfd305de",
   "metadata": {},
   "source": [
    "- Jet Airways has tha highest of flights.\n",
    "- Vistara Premium economy   and trujet has less number of flights and trujet has tha one flight only"
   ]
  },
  {
   "cell_type": "markdown",
   "id": "b79b5069",
   "metadata": {},
   "source": [
    "### how price varies with flight compant: see trend\n",
    "####  which  flights has cheapest and expensive price"
   ]
  },
  {
   "cell_type": "code",
   "execution_count": 45,
   "id": "90f68cb8",
   "metadata": {},
   "outputs": [
    {
     "data": {
      "image/png": "[encoded data removed]",
      "text/plain": [
       "<Figure size 720x360 with 1 Axes>"
      ]
     },
     "metadata": {
      "needs_background": "light"
     },
     "output_type": "display_data"
    }
   ],
   "source": [
    "plt.figure(figsize=(10,5))\n",
    "sns.boxplot(x=\"Airline\",y=\"Price\",data=df)\n",
    "plt.xticks(rotation=90)\n",
    "plt.title(\"HOW FLIGHT PRICE VARIES \");"
   ]
  },
  {
   "cell_type": "markdown",
   "id": "af1a8022",
   "metadata": {},
   "source": [
    "- we can do analysis by  barplot as well but box plot gives tha better"
   ]
  },
  {
   "cell_type": "markdown",
   "id": "ffcda92a",
   "metadata": {},
   "source": [
    "- expensive flights :Jet Airways \n",
    "- cheapest flight: trujet"
   ]
  },
  {
   "cell_type": "markdown",
   "id": "fab363f6",
   "metadata": {},
   "source": [
    "#### Find details of expensive flight"
   ]
  },
  {
   "cell_type": "code",
   "execution_count": 46,
   "id": "a0a43995",
   "metadata": {},
   "outputs": [
    {
     "data": {
      "text/plain": [
       "array(['IndiGo', 'Air India', 'Jet Airways', 'SpiceJet',\n",
       "       'Multiple carriers', 'GoAir', 'Vistara', 'Air Asia',\n",
       "       'Vistara Premium economy', 'Jet Airways Business',\n",
       "       'Multiple carriers Premium economy', 'Trujet'], dtype=object)"
      ]
     },
     "execution_count": 46,
     "metadata": {},
     "output_type": "execute_result"
    }
   ],
   "source": [
    "df[\"Airline\"].unique()"
   ]
  },
  {
   "cell_type": "code",
   "execution_count": 47,
   "id": "bc56e097",
   "metadata": {},
   "outputs": [
    {
     "data": {
      "text/html": [
       "<div>\n",
       "<style scoped>\n",
       "    .dataframe tbody tr th:only-of-type {\n",
       "        vertical-align: middle;\n",
       "    }\n",
       "\n",
       "    .dataframe tbody tr th {\n",
       "        vertical-align: top;\n",
       "    }\n",
       "\n",
       "    .dataframe thead th {\n",
       "        text-align: right;\n",
       "    }\n",
       "</style>\n",
       "<table border=\"1\" class=\"dataframe\">\n",
       "  <thead>\n",
       "    <tr style=\"text-align: right;\">\n",
       "      <th></th>\n",
       "      <th>Airline</th>\n",
       "      <th>Date_of_Journey</th>\n",
       "      <th>Source</th>\n",
       "      <th>Destination</th>\n",
       "      <th>Route</th>\n",
       "      <th>Dep_Time</th>\n",
       "      <th>Arrival_Time</th>\n",
       "      <th>Duration</th>\n",
       "      <th>Total_Stops</th>\n",
       "      <th>Additional_Info</th>\n",
       "      <th>Price</th>\n",
       "      <th>day_of_journey</th>\n",
       "      <th>month_of_journey</th>\n",
       "      <th>Dep_hour</th>\n",
       "      <th>Dep_min</th>\n",
       "      <th>arrival_hour</th>\n",
       "      <th>arrival_min</th>\n",
       "    </tr>\n",
       "  </thead>\n",
       "  <tbody>\n",
       "    <tr>\n",
       "      <th>657</th>\n",
       "      <td>Jet Airways Business</td>\n",
       "      <td>2019-01-03</td>\n",
       "      <td>Banglore</td>\n",
       "      <td>Banglore</td>\n",
       "      <td>BLR → BOM → DEL</td>\n",
       "      <td>2023-04-05 05:45:00</td>\n",
       "      <td>2023-04-05 10:45:00</td>\n",
       "      <td>300.0</td>\n",
       "      <td>1</td>\n",
       "      <td>No info</td>\n",
       "      <td>52229</td>\n",
       "      <td>3</td>\n",
       "      <td>1</td>\n",
       "      <td>5</td>\n",
       "      <td>45</td>\n",
       "      <td>10</td>\n",
       "      <td>45</td>\n",
       "    </tr>\n",
       "    <tr>\n",
       "      <th>2924</th>\n",
       "      <td>Jet Airways Business</td>\n",
       "      <td>2019-01-03</td>\n",
       "      <td>Banglore</td>\n",
       "      <td>Cochin</td>\n",
       "      <td>BLR → BOM → DEL</td>\n",
       "      <td>2023-04-05 05:45:00</td>\n",
       "      <td>2023-04-05 11:25:00</td>\n",
       "      <td>340.0</td>\n",
       "      <td>1</td>\n",
       "      <td>Business class</td>\n",
       "      <td>79512</td>\n",
       "      <td>3</td>\n",
       "      <td>1</td>\n",
       "      <td>5</td>\n",
       "      <td>45</td>\n",
       "      <td>11</td>\n",
       "      <td>25</td>\n",
       "    </tr>\n",
       "    <tr>\n",
       "      <th>5372</th>\n",
       "      <td>Jet Airways Business</td>\n",
       "      <td>2019-01-03</td>\n",
       "      <td>Banglore</td>\n",
       "      <td>Cochin</td>\n",
       "      <td>BLR → BOM → DEL</td>\n",
       "      <td>2023-04-05 05:45:00</td>\n",
       "      <td>2023-04-05 12:25:00</td>\n",
       "      <td>400.0</td>\n",
       "      <td>1</td>\n",
       "      <td>Business class</td>\n",
       "      <td>62427</td>\n",
       "      <td>3</td>\n",
       "      <td>1</td>\n",
       "      <td>5</td>\n",
       "      <td>45</td>\n",
       "      <td>12</td>\n",
       "      <td>25</td>\n",
       "    </tr>\n",
       "    <tr>\n",
       "      <th>7351</th>\n",
       "      <td>Jet Airways Business</td>\n",
       "      <td>2019-03-03</td>\n",
       "      <td>Delhi</td>\n",
       "      <td>Cochin</td>\n",
       "      <td>DEL → ATQ → BOM → COK</td>\n",
       "      <td>2023-04-05 20:05:00</td>\n",
       "      <td>2023-03-04 04:25:00</td>\n",
       "      <td>500.0</td>\n",
       "      <td>2</td>\n",
       "      <td>No info</td>\n",
       "      <td>46490</td>\n",
       "      <td>3</td>\n",
       "      <td>3</td>\n",
       "      <td>20</td>\n",
       "      <td>5</td>\n",
       "      <td>4</td>\n",
       "      <td>25</td>\n",
       "    </tr>\n",
       "    <tr>\n",
       "      <th>9715</th>\n",
       "      <td>Jet Airways Business</td>\n",
       "      <td>2019-06-03</td>\n",
       "      <td>Delhi</td>\n",
       "      <td>Cochin</td>\n",
       "      <td>DEL → ATQ → BOM → COK</td>\n",
       "      <td>2023-04-05 20:05:00</td>\n",
       "      <td>2023-03-07 04:25:00</td>\n",
       "      <td>500.0</td>\n",
       "      <td>2</td>\n",
       "      <td>No info</td>\n",
       "      <td>52285</td>\n",
       "      <td>3</td>\n",
       "      <td>6</td>\n",
       "      <td>20</td>\n",
       "      <td>5</td>\n",
       "      <td>4</td>\n",
       "      <td>25</td>\n",
       "    </tr>\n",
       "    <tr>\n",
       "      <th>10364</th>\n",
       "      <td>Jet Airways Business</td>\n",
       "      <td>2019-01-03</td>\n",
       "      <td>Banglore</td>\n",
       "      <td>Cochin</td>\n",
       "      <td>BLR → MAA → DEL</td>\n",
       "      <td>2023-04-05 09:45:00</td>\n",
       "      <td>2023-04-05 14:25:00</td>\n",
       "      <td>280.0</td>\n",
       "      <td>1</td>\n",
       "      <td>Business class</td>\n",
       "      <td>57209</td>\n",
       "      <td>3</td>\n",
       "      <td>1</td>\n",
       "      <td>9</td>\n",
       "      <td>45</td>\n",
       "      <td>14</td>\n",
       "      <td>25</td>\n",
       "    </tr>\n",
       "  </tbody>\n",
       "</table>\n",
       "</div>"
      ],
      "text/plain": [
       "                    Airline Date_of_Journey    Source Destination  \\\n",
       "657    Jet Airways Business      2019-01-03  Banglore    Banglore   \n",
       "2924   Jet Airways Business      2019-01-03  Banglore      Cochin   \n",
       "5372   Jet Airways Business      2019-01-03  Banglore      Cochin   \n",
       "7351   Jet Airways Business      2019-03-03     Delhi      Cochin   \n",
       "9715   Jet Airways Business      2019-06-03     Delhi      Cochin   \n",
       "10364  Jet Airways Business      2019-01-03  Banglore      Cochin   \n",
       "\n",
       "                       Route            Dep_Time        Arrival_Time  \\\n",
       "657          BLR → BOM → DEL 2023-04-05 05:45:00 2023-04-05 10:45:00   \n",
       "2924         BLR → BOM → DEL 2023-04-05 05:45:00 2023-04-05 11:25:00   \n",
       "5372         BLR → BOM → DEL 2023-04-05 05:45:00 2023-04-05 12:25:00   \n",
       "7351   DEL → ATQ → BOM → COK 2023-04-05 20:05:00 2023-03-04 04:25:00   \n",
       "9715   DEL → ATQ → BOM → COK 2023-04-05 20:05:00 2023-03-07 04:25:00   \n",
       "10364        BLR → MAA → DEL 2023-04-05 09:45:00 2023-04-05 14:25:00   \n",
       "\n",
       "       Duration  Total_Stops Additional_Info  Price  day_of_journey  \\\n",
       "657       300.0            1         No info  52229               3   \n",
       "2924      340.0            1  Business class  79512               3   \n",
       "5372      400.0            1  Business class  62427               3   \n",
       "7351      500.0            2         No info  46490               3   \n",
       "9715      500.0            2         No info  52285               3   \n",
       "10364     280.0            1  Business class  57209               3   \n",
       "\n",
       "       month_of_journey  Dep_hour  Dep_min  arrival_hour  arrival_min  \n",
       "657                   1         5       45            10           45  \n",
       "2924                  1         5       45            11           25  \n",
       "5372                  1         5       45            12           25  \n",
       "7351                  3        20        5             4           25  \n",
       "9715                  6        20        5             4           25  \n",
       "10364                 1         9       45            14           25  "
      ]
     },
     "execution_count": 47,
     "metadata": {},
     "output_type": "execute_result"
    }
   ],
   "source": [
    "df[df[\"Airline\"] == \"Jet Airways Business\"]"
   ]
  },
  {
   "cell_type": "markdown",
   "id": "8a32e8ab",
   "metadata": {},
   "source": [
    "#### find details of cheapest flight"
   ]
  },
  {
   "cell_type": "code",
   "execution_count": 48,
   "id": "e7fd5ac6",
   "metadata": {},
   "outputs": [
    {
     "data": {
      "text/html": [
       "<div>\n",
       "<style scoped>\n",
       "    .dataframe tbody tr th:only-of-type {\n",
       "        vertical-align: middle;\n",
       "    }\n",
       "\n",
       "    .dataframe tbody tr th {\n",
       "        vertical-align: top;\n",
       "    }\n",
       "\n",
       "    .dataframe thead th {\n",
       "        text-align: right;\n",
       "    }\n",
       "</style>\n",
       "<table border=\"1\" class=\"dataframe\">\n",
       "  <thead>\n",
       "    <tr style=\"text-align: right;\">\n",
       "      <th></th>\n",
       "      <th>Airline</th>\n",
       "      <th>Date_of_Journey</th>\n",
       "      <th>Source</th>\n",
       "      <th>Destination</th>\n",
       "      <th>Route</th>\n",
       "      <th>Dep_Time</th>\n",
       "      <th>Arrival_Time</th>\n",
       "      <th>Duration</th>\n",
       "      <th>Total_Stops</th>\n",
       "      <th>Additional_Info</th>\n",
       "      <th>Price</th>\n",
       "      <th>day_of_journey</th>\n",
       "      <th>month_of_journey</th>\n",
       "      <th>Dep_hour</th>\n",
       "      <th>Dep_min</th>\n",
       "      <th>arrival_hour</th>\n",
       "      <th>arrival_min</th>\n",
       "    </tr>\n",
       "  </thead>\n",
       "  <tbody>\n",
       "    <tr>\n",
       "      <th>2878</th>\n",
       "      <td>Trujet</td>\n",
       "      <td>2019-06-03</td>\n",
       "      <td>Mumbai</td>\n",
       "      <td>Hyderabad</td>\n",
       "      <td>BOM → NDC → HYD</td>\n",
       "      <td>2023-04-05 13:05:00</td>\n",
       "      <td>2023-04-05 16:20:00</td>\n",
       "      <td>195.0</td>\n",
       "      <td>1</td>\n",
       "      <td>No info</td>\n",
       "      <td>4140</td>\n",
       "      <td>3</td>\n",
       "      <td>6</td>\n",
       "      <td>13</td>\n",
       "      <td>5</td>\n",
       "      <td>16</td>\n",
       "      <td>20</td>\n",
       "    </tr>\n",
       "  </tbody>\n",
       "</table>\n",
       "</div>"
      ],
      "text/plain": [
       "     Airline Date_of_Journey  Source Destination            Route  \\\n",
       "2878  Trujet      2019-06-03  Mumbai   Hyderabad  BOM → NDC → HYD   \n",
       "\n",
       "                Dep_Time        Arrival_Time  Duration  Total_Stops  \\\n",
       "2878 2023-04-05 13:05:00 2023-04-05 16:20:00     195.0            1   \n",
       "\n",
       "     Additional_Info  Price  day_of_journey  month_of_journey  Dep_hour  \\\n",
       "2878         No info   4140               3                 6        13   \n",
       "\n",
       "      Dep_min  arrival_hour  arrival_min  \n",
       "2878        5            16           20  "
      ]
     },
     "execution_count": 48,
     "metadata": {},
     "output_type": "execute_result"
    }
   ],
   "source": [
    "df[df[\"Airline\"]==\"Trujet\"]"
   ]
  },
  {
   "cell_type": "markdown",
   "id": "172f56ac",
   "metadata": {},
   "source": [
    "#### How many flights with respect to their stopages."
   ]
  },
  {
   "cell_type": "code",
   "execution_count": 49,
   "id": "ddb24e89",
   "metadata": {},
   "outputs": [
    {
     "data": {
      "text/plain": [
       "1    5626\n",
       "0    3491\n",
       "2    1520\n",
       "3      45\n",
       "4       1\n",
       "Name: Total_Stops, dtype: int64"
      ]
     },
     "execution_count": 49,
     "metadata": {},
     "output_type": "execute_result"
    }
   ],
   "source": [
    "df[\"Total_Stops\"].value_counts()"
   ]
  },
  {
   "cell_type": "code",
   "execution_count": 50,
   "id": "4a4bce01",
   "metadata": {},
   "outputs": [
    {
     "data": {
      "text/html": [
       "<div>\n",
       "<style scoped>\n",
       "    .dataframe tbody tr th:only-of-type {\n",
       "        vertical-align: middle;\n",
       "    }\n",
       "\n",
       "    .dataframe tbody tr th {\n",
       "        vertical-align: top;\n",
       "    }\n",
       "\n",
       "    .dataframe thead th {\n",
       "        text-align: right;\n",
       "    }\n",
       "</style>\n",
       "<table border=\"1\" class=\"dataframe\">\n",
       "  <thead>\n",
       "    <tr style=\"text-align: right;\">\n",
       "      <th></th>\n",
       "      <th>Airline</th>\n",
       "      <th>Date_of_Journey</th>\n",
       "      <th>Source</th>\n",
       "      <th>Destination</th>\n",
       "      <th>Route</th>\n",
       "      <th>Dep_Time</th>\n",
       "      <th>Arrival_Time</th>\n",
       "      <th>Duration</th>\n",
       "      <th>Total_Stops</th>\n",
       "      <th>Additional_Info</th>\n",
       "      <th>Price</th>\n",
       "      <th>day_of_journey</th>\n",
       "      <th>month_of_journey</th>\n",
       "      <th>Dep_hour</th>\n",
       "      <th>Dep_min</th>\n",
       "      <th>arrival_hour</th>\n",
       "      <th>arrival_min</th>\n",
       "    </tr>\n",
       "  </thead>\n",
       "  <tbody>\n",
       "    <tr>\n",
       "      <th>9182</th>\n",
       "      <td>Air India</td>\n",
       "      <td>2019-01-03</td>\n",
       "      <td>Banglore</td>\n",
       "      <td>Cochin</td>\n",
       "      <td>BLR → CCU → BBI → HYD → VGA → DEL</td>\n",
       "      <td>2023-04-05 05:50:00</td>\n",
       "      <td>2023-03-02 11:20:00</td>\n",
       "      <td>1770.0</td>\n",
       "      <td>4</td>\n",
       "      <td>Change airports</td>\n",
       "      <td>17686</td>\n",
       "      <td>3</td>\n",
       "      <td>1</td>\n",
       "      <td>5</td>\n",
       "      <td>50</td>\n",
       "      <td>11</td>\n",
       "      <td>20</td>\n",
       "    </tr>\n",
       "  </tbody>\n",
       "</table>\n",
       "</div>"
      ],
      "text/plain": [
       "        Airline Date_of_Journey    Source Destination  \\\n",
       "9182  Air India      2019-01-03  Banglore      Cochin   \n",
       "\n",
       "                                  Route            Dep_Time  \\\n",
       "9182  BLR → CCU → BBI → HYD → VGA → DEL 2023-04-05 05:50:00   \n",
       "\n",
       "            Arrival_Time  Duration  Total_Stops  Additional_Info  Price  \\\n",
       "9182 2023-03-02 11:20:00    1770.0            4  Change airports  17686   \n",
       "\n",
       "      day_of_journey  month_of_journey  Dep_hour  Dep_min  arrival_hour  \\\n",
       "9182               3                 1         5       50            11   \n",
       "\n",
       "      arrival_min  \n",
       "9182           20  "
      ]
     },
     "execution_count": 50,
     "metadata": {},
     "output_type": "execute_result"
    }
   ],
   "source": [
    "df[df[\"Total_Stops\"]==4]"
   ]
  },
  {
   "cell_type": "code",
   "execution_count": 51,
   "id": "4a8929af",
   "metadata": {},
   "outputs": [
    {
     "data": {
      "image/png": "[encoded data removed]",
      "text/plain": [
       "<Figure size 432x288 with 1 Axes>"
      ]
     },
     "metadata": {
      "needs_background": "light"
     },
     "output_type": "display_data"
    }
   ],
   "source": [
    "sns.countplot(x=\"Total_Stops\",data=df);"
   ]
  },
  {
   "cell_type": "markdown",
   "id": "bc2da117",
   "metadata": {},
   "source": [
    "## from above output we can say that maxm stop are 1 and 3 and 4 stop are less"
   ]
  },
  {
   "cell_type": "code",
   "execution_count": 52,
   "id": "089e781f",
   "metadata": {},
   "outputs": [
    {
     "data": {
      "text/plain": [
       "Total_Stops  Airline                          \n",
       "0            IndiGo                               1241\n",
       "             SpiceJet                              670\n",
       "             Jet Airways                           623\n",
       "             Air India                             417\n",
       "             Vistara                               264\n",
       "             Air Asia                              181\n",
       "             GoAir                                  92\n",
       "             Vistara Premium economy                 3\n",
       "1            Jet Airways                          2535\n",
       "             Multiple carriers                    1145\n",
       "             IndiGo                                793\n",
       "             Air India                             541\n",
       "             Vistara                               215\n",
       "             SpiceJet                              148\n",
       "             Air Asia                              129\n",
       "             GoAir                                 102\n",
       "             Multiple carriers Premium economy      13\n",
       "             Jet Airways Business                    4\n",
       "             Trujet                                  1\n",
       "2            Air India                             756\n",
       "             Jet Airways                           691\n",
       "             Multiple carriers                      43\n",
       "             IndiGo                                 19\n",
       "             Air Asia                                9\n",
       "             Jet Airways Business                    2\n",
       "3            Air India                              37\n",
       "             Multiple carriers                       8\n",
       "4            Air India                               1\n",
       "Name: Airline, dtype: int64"
      ]
     },
     "execution_count": 52,
     "metadata": {},
     "output_type": "execute_result"
    }
   ],
   "source": [
    "df.groupby([\"Total_Stops\"])[\"Airline\"].value_counts()"
   ]
  },
  {
   "cell_type": "markdown",
   "id": "ba0a875a",
   "metadata": {},
   "source": [
    "#### Find tha flights with respect to stopes"
   ]
  },
  {
   "cell_type": "code",
   "execution_count": 53,
   "id": "24bbbe2b",
   "metadata": {},
   "outputs": [
    {
     "data": {
      "text/html": [
       "<div>\n",
       "<style scoped>\n",
       "    .dataframe tbody tr th:only-of-type {\n",
       "        vertical-align: middle;\n",
       "    }\n",
       "\n",
       "    .dataframe tbody tr th {\n",
       "        vertical-align: top;\n",
       "    }\n",
       "\n",
       "    .dataframe thead th {\n",
       "        text-align: right;\n",
       "    }\n",
       "</style>\n",
       "<table border=\"1\" class=\"dataframe\">\n",
       "  <thead>\n",
       "    <tr style=\"text-align: right;\">\n",
       "      <th></th>\n",
       "      <th>min</th>\n",
       "      <th>max</th>\n",
       "      <th>mean</th>\n",
       "    </tr>\n",
       "    <tr>\n",
       "      <th>Airline</th>\n",
       "      <th></th>\n",
       "      <th></th>\n",
       "      <th></th>\n",
       "    </tr>\n",
       "  </thead>\n",
       "  <tbody>\n",
       "    <tr>\n",
       "      <th>Air Asia</th>\n",
       "      <td>0</td>\n",
       "      <td>2</td>\n",
       "      <td>0.460815</td>\n",
       "    </tr>\n",
       "    <tr>\n",
       "      <th>Air India</th>\n",
       "      <td>0</td>\n",
       "      <td>4</td>\n",
       "      <td>1.237443</td>\n",
       "    </tr>\n",
       "    <tr>\n",
       "      <th>GoAir</th>\n",
       "      <td>0</td>\n",
       "      <td>1</td>\n",
       "      <td>0.525773</td>\n",
       "    </tr>\n",
       "    <tr>\n",
       "      <th>IndiGo</th>\n",
       "      <td>0</td>\n",
       "      <td>2</td>\n",
       "      <td>0.404774</td>\n",
       "    </tr>\n",
       "    <tr>\n",
       "      <th>Jet Airways</th>\n",
       "      <td>0</td>\n",
       "      <td>2</td>\n",
       "      <td>1.017667</td>\n",
       "    </tr>\n",
       "    <tr>\n",
       "      <th>SpiceJet</th>\n",
       "      <td>0</td>\n",
       "      <td>1</td>\n",
       "      <td>0.180929</td>\n",
       "    </tr>\n",
       "    <tr>\n",
       "      <th>Vistara</th>\n",
       "      <td>0</td>\n",
       "      <td>1</td>\n",
       "      <td>0.448852</td>\n",
       "    </tr>\n",
       "    <tr>\n",
       "      <th>Vistara Premium economy</th>\n",
       "      <td>0</td>\n",
       "      <td>0</td>\n",
       "      <td>0.000000</td>\n",
       "    </tr>\n",
       "    <tr>\n",
       "      <th>Jet Airways Business</th>\n",
       "      <td>1</td>\n",
       "      <td>2</td>\n",
       "      <td>1.333333</td>\n",
       "    </tr>\n",
       "    <tr>\n",
       "      <th>Multiple carriers</th>\n",
       "      <td>1</td>\n",
       "      <td>3</td>\n",
       "      <td>1.049331</td>\n",
       "    </tr>\n",
       "    <tr>\n",
       "      <th>Multiple carriers Premium economy</th>\n",
       "      <td>1</td>\n",
       "      <td>1</td>\n",
       "      <td>1.000000</td>\n",
       "    </tr>\n",
       "    <tr>\n",
       "      <th>Trujet</th>\n",
       "      <td>1</td>\n",
       "      <td>1</td>\n",
       "      <td>1.000000</td>\n",
       "    </tr>\n",
       "  </tbody>\n",
       "</table>\n",
       "</div>"
      ],
      "text/plain": [
       "                                   min  max      mean\n",
       "Airline                                              \n",
       "Air Asia                             0    2  0.460815\n",
       "Air India                            0    4  1.237443\n",
       "GoAir                                0    1  0.525773\n",
       "IndiGo                               0    2  0.404774\n",
       "Jet Airways                          0    2  1.017667\n",
       "SpiceJet                             0    1  0.180929\n",
       "Vistara                              0    1  0.448852\n",
       "Vistara Premium economy              0    0  0.000000\n",
       "Jet Airways Business                 1    2  1.333333\n",
       "Multiple carriers                    1    3  1.049331\n",
       "Multiple carriers Premium economy    1    1  1.000000\n",
       "Trujet                               1    1  1.000000"
      ]
     },
     "execution_count": 53,
     "metadata": {},
     "output_type": "execute_result"
    }
   ],
   "source": [
    "df.groupby([\"Airline\"])[\"Total_Stops\"].agg([\"min\",\"max\",\"mean\"]).sort_values(by=\"min\")"
   ]
  },
  {
   "cell_type": "code",
   "execution_count": 54,
   "id": "55bbf641",
   "metadata": {},
   "outputs": [
    {
     "data": {
      "image/png": "[encoded data removed]",
      "text/plain": [
       "<Figure size 432x288 with 1 Axes>"
      ]
     },
     "metadata": {
      "needs_background": "light"
     },
     "output_type": "display_data"
    }
   ],
   "source": [
    "sns.barplot(x=\"Airline\",y=\"Total_Stops\",data=df)\n",
    "plt.xticks(rotation=90);"
   ]
  },
  {
   "cell_type": "code",
   "execution_count": 136,
   "id": "835fb4bf",
   "metadata": {},
   "outputs": [
    {
     "data": {
      "text/plain": [
       "array(['Banglore', 'Kolkata', 'Delhi', 'Chennai', 'Mumbai'], dtype=object)"
      ]
     },
     "execution_count": 136,
     "metadata": {},
     "output_type": "execute_result"
    }
   ],
   "source": [
    "df[\"Source\"].unique()"
   ]
  },
  {
   "cell_type": "code",
   "execution_count": 116,
   "id": "46663e9f",
   "metadata": {},
   "outputs": [
    {
     "data": {
      "text/plain": [
       "array(['New Delhi', 'Banglore', 'Cochin', 'Kolkata', 'Hyderabad'],\n",
       "      dtype=object)"
      ]
     },
     "execution_count": 116,
     "metadata": {},
     "output_type": "execute_result"
    }
   ],
   "source": [
    "df[\"Destination\"].unique()"
   ]
  },
  {
   "cell_type": "code",
   "execution_count": 117,
   "id": "8c648402",
   "metadata": {
    "scrolled": true
   },
   "outputs": [
    {
     "data": {
      "text/html": [
       "<div>\n",
       "<style scoped>\n",
       "    .dataframe tbody tr th:only-of-type {\n",
       "        vertical-align: middle;\n",
       "    }\n",
       "\n",
       "    .dataframe tbody tr th {\n",
       "        vertical-align: top;\n",
       "    }\n",
       "\n",
       "    .dataframe thead th {\n",
       "        text-align: right;\n",
       "    }\n",
       "</style>\n",
       "<table border=\"1\" class=\"dataframe\">\n",
       "  <thead>\n",
       "    <tr style=\"text-align: right;\">\n",
       "      <th></th>\n",
       "      <th>index</th>\n",
       "      <th>Airline</th>\n",
       "    </tr>\n",
       "  </thead>\n",
       "  <tbody>\n",
       "    <tr>\n",
       "      <th>0</th>\n",
       "      <td>Jet Airways</td>\n",
       "      <td>3849</td>\n",
       "    </tr>\n",
       "    <tr>\n",
       "      <th>1</th>\n",
       "      <td>IndiGo</td>\n",
       "      <td>2053</td>\n",
       "    </tr>\n",
       "    <tr>\n",
       "      <th>2</th>\n",
       "      <td>Air India</td>\n",
       "      <td>1752</td>\n",
       "    </tr>\n",
       "    <tr>\n",
       "      <th>3</th>\n",
       "      <td>Multiple carriers</td>\n",
       "      <td>1196</td>\n",
       "    </tr>\n",
       "    <tr>\n",
       "      <th>4</th>\n",
       "      <td>SpiceJet</td>\n",
       "      <td>818</td>\n",
       "    </tr>\n",
       "    <tr>\n",
       "      <th>5</th>\n",
       "      <td>Vistara</td>\n",
       "      <td>479</td>\n",
       "    </tr>\n",
       "    <tr>\n",
       "      <th>6</th>\n",
       "      <td>Air Asia</td>\n",
       "      <td>319</td>\n",
       "    </tr>\n",
       "    <tr>\n",
       "      <th>7</th>\n",
       "      <td>GoAir</td>\n",
       "      <td>194</td>\n",
       "    </tr>\n",
       "    <tr>\n",
       "      <th>8</th>\n",
       "      <td>Multiple carriers Premium economy</td>\n",
       "      <td>13</td>\n",
       "    </tr>\n",
       "    <tr>\n",
       "      <th>9</th>\n",
       "      <td>Jet Airways Business</td>\n",
       "      <td>6</td>\n",
       "    </tr>\n",
       "    <tr>\n",
       "      <th>10</th>\n",
       "      <td>Vistara Premium economy</td>\n",
       "      <td>3</td>\n",
       "    </tr>\n",
       "    <tr>\n",
       "      <th>11</th>\n",
       "      <td>Trujet</td>\n",
       "      <td>1</td>\n",
       "    </tr>\n",
       "  </tbody>\n",
       "</table>\n",
       "</div>"
      ],
      "text/plain": [
       "                                index  Airline\n",
       "0                         Jet Airways     3849\n",
       "1                              IndiGo     2053\n",
       "2                           Air India     1752\n",
       "3                   Multiple carriers     1196\n",
       "4                            SpiceJet      818\n",
       "5                             Vistara      479\n",
       "6                            Air Asia      319\n",
       "7                               GoAir      194\n",
       "8   Multiple carriers Premium economy       13\n",
       "9                Jet Airways Business        6\n",
       "10            Vistara Premium economy        3\n",
       "11                             Trujet        1"
      ]
     },
     "execution_count": 117,
     "metadata": {},
     "output_type": "execute_result"
    }
   ],
   "source": [
    "x=df[\"Airline\"].value_counts().reset_index()\n",
    "x"
   ]
  },
  {
   "cell_type": "markdown",
   "id": "49e92d78",
   "metadata": {},
   "source": [
    "#### Find  maximum , min and sum price"
   ]
  },
  {
   "cell_type": "code",
   "execution_count": 55,
   "id": "e3d01de6",
   "metadata": {},
   "outputs": [
    {
     "data": {
      "text/plain": [
       "max       79512\n",
       "min        1759\n",
       "sum    97077106\n",
       "Name: Price, dtype: int64"
      ]
     },
     "execution_count": 55,
     "metadata": {},
     "output_type": "execute_result"
    }
   ],
   "source": [
    "df[\"Price\"].agg([\"max\",\"min\",\"sum\"])"
   ]
  },
  {
   "cell_type": "code",
   "execution_count": 56,
   "id": "1743014d",
   "metadata": {},
   "outputs": [
    {
     "data": {
      "text/html": [
       "<div>\n",
       "<style scoped>\n",
       "    .dataframe tbody tr th:only-of-type {\n",
       "        vertical-align: middle;\n",
       "    }\n",
       "\n",
       "    .dataframe tbody tr th {\n",
       "        vertical-align: top;\n",
       "    }\n",
       "\n",
       "    .dataframe thead th {\n",
       "        text-align: right;\n",
       "    }\n",
       "</style>\n",
       "<table border=\"1\" class=\"dataframe\">\n",
       "  <thead>\n",
       "    <tr style=\"text-align: right;\">\n",
       "      <th></th>\n",
       "      <th>Airline</th>\n",
       "      <th>Date_of_Journey</th>\n",
       "      <th>Source</th>\n",
       "      <th>Destination</th>\n",
       "      <th>Route</th>\n",
       "      <th>Dep_Time</th>\n",
       "      <th>Arrival_Time</th>\n",
       "      <th>Duration</th>\n",
       "      <th>Total_Stops</th>\n",
       "      <th>Additional_Info</th>\n",
       "      <th>Price</th>\n",
       "      <th>day_of_journey</th>\n",
       "      <th>month_of_journey</th>\n",
       "      <th>Dep_hour</th>\n",
       "      <th>Dep_min</th>\n",
       "      <th>arrival_hour</th>\n",
       "      <th>arrival_min</th>\n",
       "    </tr>\n",
       "  </thead>\n",
       "  <tbody>\n",
       "    <tr>\n",
       "      <th>0</th>\n",
       "      <td>IndiGo</td>\n",
       "      <td>2019-03-24</td>\n",
       "      <td>Banglore</td>\n",
       "      <td>New Delhi</td>\n",
       "      <td>BLR → DEL</td>\n",
       "      <td>2023-04-05 22:20:00</td>\n",
       "      <td>2023-03-22 01:10:00</td>\n",
       "      <td>170.0</td>\n",
       "      <td>0</td>\n",
       "      <td>No info</td>\n",
       "      <td>3897</td>\n",
       "      <td>24</td>\n",
       "      <td>3</td>\n",
       "      <td>22</td>\n",
       "      <td>20</td>\n",
       "      <td>1</td>\n",
       "      <td>10</td>\n",
       "    </tr>\n",
       "  </tbody>\n",
       "</table>\n",
       "</div>"
      ],
      "text/plain": [
       "  Airline Date_of_Journey    Source Destination      Route  \\\n",
       "0  IndiGo      2019-03-24  Banglore   New Delhi  BLR → DEL   \n",
       "\n",
       "             Dep_Time        Arrival_Time  Duration  Total_Stops  \\\n",
       "0 2023-04-05 22:20:00 2023-03-22 01:10:00     170.0            0   \n",
       "\n",
       "  Additional_Info  Price  day_of_journey  month_of_journey  Dep_hour  Dep_min  \\\n",
       "0         No info   3897              24                 3        22       20   \n",
       "\n",
       "   arrival_hour  arrival_min  \n",
       "0             1           10  "
      ]
     },
     "execution_count": 56,
     "metadata": {},
     "output_type": "execute_result"
    }
   ],
   "source": [
    "x=df[df[\"Destination\"]==\"New Delhi\"].head()\n",
    "x"
   ]
  },
  {
   "cell_type": "code",
   "execution_count": 57,
   "id": "6792db72",
   "metadata": {},
   "outputs": [
    {
     "data": {
      "text/plain": [
       "Destination\n",
       "Banglore     32271247\n",
       "Cochin       57133054\n",
       "Hyderabad     5123825\n",
       "Kolkata       2545083\n",
       "New Delhi        3897\n",
       "Name: Price, dtype: int64"
      ]
     },
     "execution_count": 57,
     "metadata": {},
     "output_type": "execute_result"
    }
   ],
   "source": [
    "df.groupby([\"Destination\"])[\"Price\"].sum()"
   ]
  },
  {
   "cell_type": "code",
   "execution_count": 58,
   "id": "cb52afcf",
   "metadata": {},
   "outputs": [
    {
     "data": {
      "text/html": [
       "<div>\n",
       "<style scoped>\n",
       "    .dataframe tbody tr th:only-of-type {\n",
       "        vertical-align: middle;\n",
       "    }\n",
       "\n",
       "    .dataframe tbody tr th {\n",
       "        vertical-align: top;\n",
       "    }\n",
       "\n",
       "    .dataframe thead th {\n",
       "        text-align: right;\n",
       "    }\n",
       "</style>\n",
       "<table border=\"1\" class=\"dataframe\">\n",
       "  <thead>\n",
       "    <tr style=\"text-align: right;\">\n",
       "      <th></th>\n",
       "      <th>Airline</th>\n",
       "      <th>Date_of_Journey</th>\n",
       "      <th>Source</th>\n",
       "      <th>Destination</th>\n",
       "      <th>Route</th>\n",
       "      <th>Dep_Time</th>\n",
       "      <th>Arrival_Time</th>\n",
       "      <th>Duration</th>\n",
       "      <th>Total_Stops</th>\n",
       "      <th>Additional_Info</th>\n",
       "      <th>Price</th>\n",
       "      <th>day_of_journey</th>\n",
       "      <th>month_of_journey</th>\n",
       "      <th>Dep_hour</th>\n",
       "      <th>Dep_min</th>\n",
       "      <th>arrival_hour</th>\n",
       "      <th>arrival_min</th>\n",
       "    </tr>\n",
       "  </thead>\n",
       "  <tbody>\n",
       "    <tr>\n",
       "      <th>6</th>\n",
       "      <td>Jet Airways</td>\n",
       "      <td>2019-12-03</td>\n",
       "      <td>Banglore</td>\n",
       "      <td>Banglore</td>\n",
       "      <td>BLR → BOM → DEL</td>\n",
       "      <td>2023-04-05 18:55:00</td>\n",
       "      <td>2023-03-13 10:25:00</td>\n",
       "      <td>930.0</td>\n",
       "      <td>1</td>\n",
       "      <td>In-flight meal not included</td>\n",
       "      <td>11087</td>\n",
       "      <td>3</td>\n",
       "      <td>12</td>\n",
       "      <td>18</td>\n",
       "      <td>55</td>\n",
       "      <td>10</td>\n",
       "      <td>25</td>\n",
       "    </tr>\n",
       "    <tr>\n",
       "      <th>8</th>\n",
       "      <td>Jet Airways</td>\n",
       "      <td>2019-12-03</td>\n",
       "      <td>Banglore</td>\n",
       "      <td>Banglore</td>\n",
       "      <td>BLR → BOM → DEL</td>\n",
       "      <td>2023-04-05 08:55:00</td>\n",
       "      <td>2023-03-13 10:25:00</td>\n",
       "      <td>1530.0</td>\n",
       "      <td>1</td>\n",
       "      <td>In-flight meal not included</td>\n",
       "      <td>11087</td>\n",
       "      <td>3</td>\n",
       "      <td>12</td>\n",
       "      <td>8</td>\n",
       "      <td>55</td>\n",
       "      <td>10</td>\n",
       "      <td>25</td>\n",
       "    </tr>\n",
       "    <tr>\n",
       "      <th>13</th>\n",
       "      <td>Jet Airways</td>\n",
       "      <td>2019-09-05</td>\n",
       "      <td>Kolkata</td>\n",
       "      <td>Banglore</td>\n",
       "      <td>CCU → BOM → BLR</td>\n",
       "      <td>2023-04-05 21:10:00</td>\n",
       "      <td>2023-05-10 09:20:00</td>\n",
       "      <td>730.0</td>\n",
       "      <td>1</td>\n",
       "      <td>In-flight meal not included</td>\n",
       "      <td>9663</td>\n",
       "      <td>5</td>\n",
       "      <td>9</td>\n",
       "      <td>21</td>\n",
       "      <td>10</td>\n",
       "      <td>9</td>\n",
       "      <td>20</td>\n",
       "    </tr>\n",
       "    <tr>\n",
       "      <th>17</th>\n",
       "      <td>Jet Airways</td>\n",
       "      <td>2019-12-06</td>\n",
       "      <td>Delhi</td>\n",
       "      <td>Cochin</td>\n",
       "      <td>DEL → BOM → COK</td>\n",
       "      <td>2023-04-05 14:00:00</td>\n",
       "      <td>2023-06-13 12:35:00</td>\n",
       "      <td>1355.0</td>\n",
       "      <td>1</td>\n",
       "      <td>In-flight meal not included</td>\n",
       "      <td>10262</td>\n",
       "      <td>6</td>\n",
       "      <td>12</td>\n",
       "      <td>14</td>\n",
       "      <td>0</td>\n",
       "      <td>12</td>\n",
       "      <td>35</td>\n",
       "    </tr>\n",
       "    <tr>\n",
       "      <th>19</th>\n",
       "      <td>Jet Airways</td>\n",
       "      <td>2019-05-27</td>\n",
       "      <td>Delhi</td>\n",
       "      <td>Cochin</td>\n",
       "      <td>DEL → BOM → COK</td>\n",
       "      <td>2023-04-05 16:00:00</td>\n",
       "      <td>2023-05-28 12:35:00</td>\n",
       "      <td>1235.0</td>\n",
       "      <td>1</td>\n",
       "      <td>In-flight meal not included</td>\n",
       "      <td>12898</td>\n",
       "      <td>27</td>\n",
       "      <td>5</td>\n",
       "      <td>16</td>\n",
       "      <td>0</td>\n",
       "      <td>12</td>\n",
       "      <td>35</td>\n",
       "    </tr>\n",
       "  </tbody>\n",
       "</table>\n",
       "</div>"
      ],
      "text/plain": [
       "        Airline Date_of_Journey    Source Destination            Route  \\\n",
       "6   Jet Airways      2019-12-03  Banglore    Banglore  BLR → BOM → DEL   \n",
       "8   Jet Airways      2019-12-03  Banglore    Banglore  BLR → BOM → DEL   \n",
       "13  Jet Airways      2019-09-05   Kolkata    Banglore  CCU → BOM → BLR   \n",
       "17  Jet Airways      2019-12-06     Delhi      Cochin  DEL → BOM → COK   \n",
       "19  Jet Airways      2019-05-27     Delhi      Cochin  DEL → BOM → COK   \n",
       "\n",
       "              Dep_Time        Arrival_Time  Duration  Total_Stops  \\\n",
       "6  2023-04-05 18:55:00 2023-03-13 10:25:00     930.0            1   \n",
       "8  2023-04-05 08:55:00 2023-03-13 10:25:00    1530.0            1   \n",
       "13 2023-04-05 21:10:00 2023-05-10 09:20:00     730.0            1   \n",
       "17 2023-04-05 14:00:00 2023-06-13 12:35:00    1355.0            1   \n",
       "19 2023-04-05 16:00:00 2023-05-28 12:35:00    1235.0            1   \n",
       "\n",
       "                Additional_Info  Price  day_of_journey  month_of_journey  \\\n",
       "6   In-flight meal not included  11087               3                12   \n",
       "8   In-flight meal not included  11087               3                12   \n",
       "13  In-flight meal not included   9663               5                 9   \n",
       "17  In-flight meal not included  10262               6                12   \n",
       "19  In-flight meal not included  12898              27                 5   \n",
       "\n",
       "    Dep_hour  Dep_min  arrival_hour  arrival_min  \n",
       "6         18       55            10           25  \n",
       "8          8       55            10           25  \n",
       "13        21       10             9           20  \n",
       "17        14        0            12           35  \n",
       "19        16        0            12           35  "
      ]
     },
     "execution_count": 58,
     "metadata": {},
     "output_type": "execute_result"
    }
   ],
   "source": [
    "## \n",
    "\n",
    "x=df[df[\"Additional_Info\"]==\"In-flight meal not included\"]\n",
    "x.head()"
   ]
  },
  {
   "cell_type": "code",
   "execution_count": null,
   "id": "01ae0d81",
   "metadata": {},
   "outputs": [],
   "source": []
  },
  {
   "cell_type": "markdown",
   "id": "8cee3e1a",
   "metadata": {},
   "source": [
    "#### Variaton of flight price frim source."
   ]
  },
  {
   "cell_type": "code",
   "execution_count": 59,
   "id": "1ac1989c",
   "metadata": {},
   "outputs": [
    {
     "name": "stderr",
     "output_type": "stream",
     "text": [
      "C:\\Users\\ad\\anaconda3\\lib\\site-packages\\seaborn\\_decorators.py:36: FutureWarning: Pass the following variables as keyword args: x, y. From version 0.12, the only valid positional argument will be `data`, and passing other arguments without an explicit keyword will result in an error or misinterpretation.\n",
      "  warnings.warn(\n"
     ]
    },
    {
     "data": {
      "image/png": "[encoded data removed]",
      "text/plain": [
       "<Figure size 504x432 with 1 Axes>"
      ]
     },
     "metadata": {
      "needs_background": "light"
     },
     "output_type": "display_data"
    }
   ],
   "source": [
    "plt.figure(figsize=(7,6))\n",
    "sns.boxplot(df[\"Source\"],df[\"Price\"],data=df)\n",
    "plt.xticks(rotation=90)\n",
    "plt.title(\"variaton of flight price by source\");#box plot used to do distribution"
   ]
  },
  {
   "cell_type": "markdown",
   "id": "418a8bd1",
   "metadata": {},
   "source": [
    "#### Variation price for destination"
   ]
  },
  {
   "cell_type": "code",
   "execution_count": 61,
   "id": "bb3c133a",
   "metadata": {},
   "outputs": [
    {
     "name": "stderr",
     "output_type": "stream",
     "text": [
      "C:\\Users\\ad\\anaconda3\\lib\\site-packages\\seaborn\\_decorators.py:36: FutureWarning: Pass the following variables as keyword args: x, y. From version 0.12, the only valid positional argument will be `data`, and passing other arguments without an explicit keyword will result in an error or misinterpretation.\n",
      "  warnings.warn(\n"
     ]
    },
    {
     "data": {
      "image/png": "[encoded data removed]",
      "text/plain": [
       "<Figure size 504x432 with 1 Axes>"
      ]
     },
     "metadata": {
      "needs_background": "light"
     },
     "output_type": "display_data"
    }
   ],
   "source": [
    "plt.figure(figsize=(7,6))\n",
    "sns.boxplot(df[\"Destination\"],df[\"Price\"],data=df)\n",
    "plt.xticks(rotation=90)\n",
    "plt.title(\"variaton of flight price by Destination\");"
   ]
  },
  {
   "cell_type": "markdown",
   "id": "4aba4ec1",
   "metadata": {},
   "source": [
    "### on which month have maxm flights take off?"
   ]
  },
  {
   "cell_type": "code",
   "execution_count": 62,
   "id": "9dd12234",
   "metadata": {},
   "outputs": [
    {
     "data": {
      "text/plain": [
       "<AxesSubplot:xlabel='month_of_journey', ylabel='count'>"
      ]
     },
     "execution_count": 62,
     "metadata": {},
     "output_type": "execute_result"
    },
    {
     "data": {
      "image/png": "[encoded data removed]",
      "text/plain": [
       "<Figure size 432x288 with 1 Axes>"
      ]
     },
     "metadata": {
      "needs_background": "light"
     },
     "output_type": "display_data"
    }
   ],
   "source": [
    "sns.countplot(x=\"month_of_journey\",data=df)"
   ]
  },
  {
   "cell_type": "markdown",
   "id": "2e7718c5",
   "metadata": {},
   "source": [
    "#### Peak busines month"
   ]
  },
  {
   "cell_type": "code",
   "execution_count": 89,
   "id": "4a2ecf8f",
   "metadata": {},
   "outputs": [
    {
     "data": {
      "text/plain": [
       "<AxesSubplot:xlabel='month_of_journey', ylabel='Price'>"
      ]
     },
     "execution_count": 89,
     "metadata": {},
     "output_type": "execute_result"
    },
    {
     "data": {
      "image/png": "[encoded data removed]",
      "text/plain": [
       "<Figure size 432x288 with 1 Axes>"
      ]
     },
     "metadata": {
      "needs_background": "light"
     },
     "output_type": "display_data"
    }
   ],
   "source": [
    "sns.barplot(x='month_of_journey',y='Price',data=df)"
   ]
  },
  {
   "cell_type": "code",
   "execution_count": 70,
   "id": "13ecd9b8",
   "metadata": {},
   "outputs": [
    {
     "data": {
      "text/plain": [
       "([0, 1, 2, 3, 4, 5, 6, 7, 8, 9, 10, 11],\n",
       " [Text(0, 0, ''),\n",
       "  Text(0, 0, ''),\n",
       "  Text(0, 0, ''),\n",
       "  Text(0, 0, ''),\n",
       "  Text(0, 0, ''),\n",
       "  Text(0, 0, ''),\n",
       "  Text(0, 0, ''),\n",
       "  Text(0, 0, ''),\n",
       "  Text(0, 0, ''),\n",
       "  Text(0, 0, ''),\n",
       "  Text(0, 0, ''),\n",
       "  Text(0, 0, '')])"
      ]
     },
     "execution_count": 70,
     "metadata": {},
     "output_type": "execute_result"
    },
    {
     "data": {
      "image/png": "[encoded data removed]",
      "text/plain": [
       "<Figure size 432x288 with 1 Axes>"
      ]
     },
     "metadata": {
      "needs_background": "light"
     },
     "output_type": "display_data"
    }
   ],
   "source": [
    "'''which flights take off in which month'''\n",
    "plt.scatter(df['Airline'],df['month_of_journey'])\n",
    "plt.xticks(rotation=90)\n",
    "plt.ylabel('month_of_journey')\n",
    "plt.xlabel('Airline')\n",
    "plt.yticks([1,2,3,4,5,6,7,8,9,10,11,12])\n",
    "plt.xticks()"
   ]
  },
  {
   "cell_type": "markdown",
   "id": "89786433",
   "metadata": {},
   "source": [
    "#### How many flights take of in each month"
   ]
  },
  {
   "cell_type": "code",
   "execution_count": 73,
   "id": "835f1e86",
   "metadata": {},
   "outputs": [
    {
     "data": {
      "text/plain": [
       "month_of_journey  Airline          \n",
       "1                 Jet Airways          430\n",
       "                  Air India            197\n",
       "                  IndiGo               184\n",
       "                  SpiceJet              76\n",
       "                  Multiple carriers     75\n",
       "                                      ... \n",
       "12                Multiple carriers     65\n",
       "                  SpiceJet              54\n",
       "                  Vistara               52\n",
       "                  Air Asia              29\n",
       "                  GoAir                 12\n",
       "Name: Airline, Length: 64, dtype: int64"
      ]
     },
     "execution_count": 73,
     "metadata": {},
     "output_type": "execute_result"
    }
   ],
   "source": [
    "df.groupby('month_of_journey')['Airline'].value_counts()"
   ]
  },
  {
   "cell_type": "markdown",
   "id": "13d3bb51",
   "metadata": {},
   "source": [
    "#### Find peak day"
   ]
  },
  {
   "cell_type": "code",
   "execution_count": 74,
   "id": "e789b063",
   "metadata": {},
   "outputs": [
    {
     "data": {
      "text/plain": [
       "<bound method IndexOpsMixin.value_counts of 0        24\n",
       "1         5\n",
       "2         6\n",
       "3         5\n",
       "4         3\n",
       "         ..\n",
       "10678     4\n",
       "10679    27\n",
       "10680    27\n",
       "10681     3\n",
       "10682     5\n",
       "Name: day_of_journey, Length: 10683, dtype: int64>"
      ]
     },
     "execution_count": 74,
     "metadata": {},
     "output_type": "execute_result"
    }
   ],
   "source": [
    "df['day_of_journey'].value_counts"
   ]
  },
  {
   "cell_type": "markdown",
   "id": "1cd167b2",
   "metadata": {},
   "source": [
    "- 6 th  was tha peak day when passenger travelled most\n"
   ]
  },
  {
   "cell_type": "markdown",
   "id": "945e13bd",
   "metadata": {},
   "source": [
    "#### what was tha peak departure time"
   ]
  },
  {
   "cell_type": "code",
   "execution_count": 75,
   "id": "cc45c6c1",
   "metadata": {},
   "outputs": [
    {
     "data": {
      "text/plain": [
       "9     916\n",
       "7     867\n",
       "8     697\n",
       "17    695\n",
       "6     687\n",
       "20    651\n",
       "5     629\n",
       "11    580\n",
       "19    567\n",
       "10    536\n",
       "14    523\n",
       "21    492\n",
       "16    472\n",
       "18    444\n",
       "13    417\n",
       "22    387\n",
       "15    319\n",
       "2     194\n",
       "12    178\n",
       "4     170\n",
       "23    161\n",
       "0      40\n",
       "1      37\n",
       "3      24\n",
       "Name: Dep_hour, dtype: int64"
      ]
     },
     "execution_count": 75,
     "metadata": {},
     "output_type": "execute_result"
    }
   ],
   "source": [
    "df['Dep_hour'].value_counts()"
   ]
  },
  {
   "cell_type": "markdown",
   "id": "a71602a3",
   "metadata": {},
   "source": [
    "#### find out tha peak departure hour for different flight"
   ]
  },
  {
   "cell_type": "code",
   "execution_count": 77,
   "id": "1e2412a8",
   "metadata": {},
   "outputs": [
    {
     "data": {
      "text/plain": [
       "Airline                  Dep_hour\n",
       "Air Asia                 7           53\n",
       "                         22          39\n",
       "                         19          37\n",
       "                         16          33\n",
       "                         23          33\n",
       "                                     ..\n",
       "Vistara                  10           1\n",
       "                         12           1\n",
       "Vistara Premium economy  7            1\n",
       "                         11           1\n",
       "                         16           1\n",
       "Name: Dep_hour, Length: 149, dtype: int64"
      ]
     },
     "execution_count": 77,
     "metadata": {},
     "output_type": "execute_result"
    }
   ],
   "source": [
    "df.groupby(['Airline'])['Dep_hour'].value_counts()"
   ]
  },
  {
   "cell_type": "markdown",
   "id": "9c9e9dac",
   "metadata": {},
   "source": [
    "#### find tha peak departure hour for tha flight take off at following location'''\n"
   ]
  },
  {
   "cell_type": "code",
   "execution_count": 96,
   "id": "d339c576",
   "metadata": {},
   "outputs": [
    {
     "name": "stderr",
     "output_type": "stream",
     "text": [
      "C:\\Users\\ad\\anaconda3\\lib\\site-packages\\seaborn\\_decorators.py:36: FutureWarning: Pass the following variable as a keyword arg: x. From version 0.12, the only valid positional argument will be `data`, and passing other arguments without an explicit keyword will result in an error or misinterpretation.\n",
      "  warnings.warn(\n"
     ]
    },
    {
     "data": {
      "image/png": "[encoded data removed]",
      "text/plain": [
       "<Figure size 432x288 with 1 Axes>"
      ]
     },
     "metadata": {
      "needs_background": "light"
     },
     "output_type": "display_data"
    }
   ],
   "source": [
    "'''find tha peak arrival time'''\n",
    "sns.countplot(df['arrival_hour']);"
   ]
  },
  {
   "cell_type": "code",
   "execution_count": null,
   "id": "12253962",
   "metadata": {},
   "outputs": [],
   "source": []
  },
  {
   "cell_type": "code",
   "execution_count": null,
   "id": "904bec1d",
   "metadata": {},
   "outputs": [],
   "source": []
  },
  {
   "cell_type": "code",
   "execution_count": null,
   "id": "de1a59a1",
   "metadata": {},
   "outputs": [],
   "source": []
  },
  {
   "cell_type": "code",
   "execution_count": null,
   "id": "694f2c0c",
   "metadata": {},
   "outputs": [],
   "source": []
  },
  {
   "cell_type": "code",
   "execution_count": null,
   "id": "e9a56960",
   "metadata": {},
   "outputs": [],
   "source": []
  }
 ],
 "metadata": {
  "kernelspec": {
   "display_name": "Python 3 (ipykernel)",
   "language": "python",
   "name": "python3"
  },
  "language_info": {
   "codemirror_mode": {
    "name": "ipython",
    "version": 3
   },
   "file_extension": ".py",
   "mimetype": "text/x-python",
   "name": "python",
   "nbconvert_exporter": "python",
   "pygments_lexer": "ipython3",
   "version": "3.9.12"
  }
 },
 "nbformat": 4,
 "nbformat_minor": 5
}
